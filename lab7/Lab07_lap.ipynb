{
 "cells": [
  {
   "cell_type": "markdown",
   "id": "59b5dc28",
   "metadata": {},
   "source": [
    "# Algorytmika i matematyka uczenia maszynowego \n",
    "## Laboratorium 7\n"
   ]
  },
  {
   "cell_type": "markdown",
   "id": "01f97ff3",
   "metadata": {},
   "source": [
    "### Zadanie 1\n",
    "\n",
    "Z miasta A do miasta B kierowca przejechał ze średnią szybkością 60 km/h. Z powrotem jechał szybciej, ze średnią 80 km/h. Jaka była jego średnia szybkość na całej trasie? \n",
    "\n",
    "**Uwaga:** nie używaj gotowych implementacji.\n",
    "\n",
    "> Wskazówka: średnia harmoniczna."
   ]
  },
  {
   "cell_type": "code",
   "execution_count": 1,
   "id": "b7313777",
   "metadata": {
    "scrolled": true
   },
   "outputs": [
    {
     "data": {
      "text/plain": [
       "68.57142857142857"
      ]
     },
     "execution_count": 1,
     "metadata": {},
     "output_type": "execute_result"
    }
   ],
   "source": [
    "def harmonicalAVG(lst):\n",
    "    nominator = len(lst)\n",
    "    denominator = 0\n",
    "    for i in lst:\n",
    "        denominator += 1/i\n",
    "    return nominator/denominator\n",
    "\n",
    "velocity = [60,80]\n",
    "harmonical = harmonicalAVG(velocity)\n",
    "harmonical"
   ]
  },
  {
   "cell_type": "markdown",
   "id": "ca4e7af2",
   "metadata": {},
   "source": [
    "### Zadanie 2\n",
    "\n",
    "Wyobraźmy sobie miasto o liczbie 700 tys. mieszkańców. W mieście pojawiła się choroba i wiemy, że jedna osoba na 1000 zachorowała. Nie wiemy, które to dokładnie osoby, ale jest dostępny test, którego skuteczność wynosi 99%. Teraz wcielamy się w pacjenta, który przeprowadził test, a wynik testu jest pozytywny. Chcemy dowiedzieć się, jakie jest prawdopodobieństwo, że zachorowaliśmy.\n",
    "\n",
    "#### A)\n",
    "\n",
    "Przeprowadzić symulację komputerową:\n",
    "\n",
    "- Generujemy listę wielkości 700 tys.\n",
    "- Losowo wybieramy 700 tys./1000 (bo jedna na 1000 osob zachorowała) osób i zaznaczamy je jako chore.\n",
    "- Wybieramy losowo po 1% osob chorych i zdrowych, a następnie zaznaczamy ich diagnoze na nieprawidlowa (bo skutecznosc testu wynosi 99%).\n",
    "- Oblicz jakie jest prawdopodobienstwo ze osoba z pozytywnym wynikiem testu jest faktycznie chora (`liczba osób chorych z wynikiem pozytywnym` / `liczba wszystkich osob z wynikiem pozytywnym`).\n",
    "\n"
   ]
  },
  {
   "cell_type": "code",
   "execution_count": 2,
   "id": "0fea1c5d",
   "metadata": {},
   "outputs": [
    {
     "data": {
      "text/plain": [
       "array([[1., 0.],\n",
       "       [1., 0.],\n",
       "       [1., 0.],\n",
       "       ...,\n",
       "       [0., 0.],\n",
       "       [0., 0.],\n",
       "       [0., 0.]])"
      ]
     },
     "execution_count": 2,
     "metadata": {},
     "output_type": "execute_result"
    }
   ],
   "source": [
    "import numpy as np \n",
    "population = np.zeros([700000, 2])\n",
    "\n",
    "population[0: 699, 0] = 1\n",
    "population[0: 699, 1] = 1\n",
    "population[0:6,1] = 0\n",
    "population[700: 706, 1] = 1\n",
    "population"
   ]
  },
  {
   "cell_type": "markdown",
   "id": "46aa035b",
   "metadata": {},
   "source": [
    "#### B)\n",
    "\n",
    "Napisać funkcję, która zwróci wynik obliczony ze wzoru Bayesa. Zmierz i porównaj czas obliczeń w zad. A i zad. B\n",
    "\n"
   ]
  },
  {
   "cell_type": "code",
   "execution_count": 3,
   "id": "1119d040",
   "metadata": {},
   "outputs": [],
   "source": [
    "# << UZUPEŁNIJ >>"
   ]
  },
  {
   "cell_type": "markdown",
   "id": "2850f724",
   "metadata": {},
   "source": [
    "#### C)\n",
    "\n",
    "Wyświetl wykres, gdzie na osi X znajduje się _czułość testu_ a na osi Y znajduje się _prawdopodobieństwo, że osoba z pozytywnym wynikiem jest chora_."
   ]
  },
  {
   "cell_type": "code",
   "execution_count": 4,
   "id": "7359c283",
   "metadata": {},
   "outputs": [],
   "source": [
    "# << UZUPEŁNIJ >>"
   ]
  },
  {
   "cell_type": "markdown",
   "id": "2b0253f8",
   "metadata": {},
   "source": [
    "### Zadanie 3\n",
    "\n",
    "Sprawdź (symulacją) jak często trafia się \"ręka\" zawierająca $\\ge 8$ kart w jednym kolorze z 13 kart. Czyli losujemy 13 kart z 52 (wiec \"ręki\" jak w brydzu) tak długo, aż w jakimś kolorze dostaniemy $\\ge 8$ kart. Przeprowadź 1000 takich prob i oblicz średnią. Dodatkowo wypisz jedną (np. ostatnią) taką wylosowaną rękę."
   ]
  },
  {
   "cell_type": "code",
   "execution_count": 5,
   "id": "622ec278",
   "metadata": {},
   "outputs": [
    {
     "name": "stdout",
     "output_type": "stream",
     "text": [
      "35.88462818746385\n",
      "0.005294899423385453\n",
      "0.001\n",
      "clubs 13\n",
      "clubs 7\n",
      "diamonds 6\n",
      "diamonds 9\n",
      "diamonds 1\n",
      "diamonds 13\n",
      "diamonds 3\n",
      "heart 7\n",
      "diamonds 7\n",
      "spades 10\n",
      "diamonds 2\n",
      "diamonds 4\n",
      "spades 3\n"
     ]
    }
   ],
   "source": [
    "import random\n",
    "\n",
    "class Card:\n",
    "    def __init__(self, color, value):\n",
    "        self.color = color\n",
    "        self.value = value\n",
    "        \n",
    "colors = ['heart', 'diamonds', 'spades', 'clubs']\n",
    "deck = [Card(color, value) for value in range(1, 14) for color in colors]\n",
    "timesLst = []\n",
    "sim = 1000\n",
    "for i in range(sim):\n",
    "    heartC = diamondsC = spadesC = clubsC = 0\n",
    "    times = 0\n",
    "    while not(heartC>=8 or diamondsC>=8 or spadesC>=8 or clubsC>=8):\n",
    "        heartC = diamondsC = spadesC = clubsC=0\n",
    "        times += 1\n",
    "        random.shuffle(deck)\n",
    "        hand = []\n",
    "        for i in range(13):\n",
    "            card = deck[i]\n",
    "            hand.append(card)\n",
    "        for cardInHand in hand:\n",
    "            if cardInHand.color =='heart':\n",
    "                heartC += 1\n",
    "            elif cardInHand.color =='diamonds':\n",
    "                diamondsC += 1\n",
    "            elif cardInHand.color =='spades':\n",
    "                spadesC += 1\n",
    "            elif cardInHand.color =='clubs':\n",
    "                clubsC += 1\n",
    "    timesLst.append(times)\n",
    "            \n",
    "harmonical = harmonicalAVG(timesLst)\n",
    "print(harmonical)\n",
    "print(len(timesLst)/sum(timesLst))\n",
    "print(sum(timesLst)/len(timesLst)/sum(timesLst))\n",
    "\n",
    "for i in hand:\n",
    "    print(i.color, i.value)"
   ]
  },
  {
   "cell_type": "code",
   "execution_count": null,
   "id": "bd554d44",
   "metadata": {},
   "outputs": [],
   "source": []
  },
  {
   "cell_type": "code",
   "execution_count": null,
   "id": "a30e10b9",
   "metadata": {},
   "outputs": [],
   "source": []
  }
 ],
 "metadata": {
  "author": {
   "email": "robert.susik@p.lodz.pl",
   "name": "Robert Susik"
  },
  "kernelspec": {
   "display_name": "Python 3 (ipykernel)",
   "language": "python",
   "name": "python3"
  },
  "language_info": {
   "codemirror_mode": {
    "name": "ipython",
    "version": 3
   },
   "file_extension": ".py",
   "mimetype": "text/x-python",
   "name": "python",
   "nbconvert_exporter": "python",
   "pygments_lexer": "ipython3",
   "version": "3.7.8"
  },
  "toc": {
   "base_numbering": 1,
   "nav_menu": {},
   "number_sections": true,
   "sideBar": true,
   "skip_h1_title": false,
   "title_cell": "Table of Contents",
   "title_sidebar": "Contents",
   "toc_cell": false,
   "toc_position": {},
   "toc_section_display": true,
   "toc_window_display": false
  }
 },
 "nbformat": 4,
 "nbformat_minor": 5
}
