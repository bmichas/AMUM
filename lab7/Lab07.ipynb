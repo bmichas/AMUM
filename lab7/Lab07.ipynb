{
 "cells": [
  {
   "cell_type": "markdown",
   "id": "59b5dc28",
   "metadata": {},
   "source": [
    "# Algorytmika i matematyka uczenia maszynowego \n",
    "## Laboratorium 7\n"
   ]
  },
  {
   "cell_type": "markdown",
   "id": "01f97ff3",
   "metadata": {},
   "source": [
    "### Zadanie 1\n",
    "\n",
    "Z miasta A do miasta B kierowca przejechał ze średnią szybkością 60 km/h. Z powrotem jechał szybciej, ze średnią 80 km/h. Jaka była jego średnia szybkość na całej trasie? \n",
    "\n",
    "**Uwaga:** nie używaj gotowych implementacji.\n",
    "\n",
    "> Wskazówka: średnia harmoniczna."
   ]
  },
  {
   "cell_type": "code",
   "execution_count": 4,
   "id": "b7313777",
   "metadata": {},
   "outputs": [
    {
     "data": {
      "text/plain": [
       "68.57142857142857"
      ]
     },
     "execution_count": 4,
     "metadata": {},
     "output_type": "execute_result"
    }
   ],
   "source": [
    "def harmonicalAVG(lst):\n",
    "    nominator = len(lst)\n",
    "    denominator = 0\n",
    "    for i in lst:\n",
    "        denominator += 1/i\n",
    "    return nominator/denominator\n",
    "\n",
    "velocity = [60,80]\n",
    "harmonical = harmonicalAVG(velocity)\n",
    "harmonical"
   ]
  },
  {
   "cell_type": "markdown",
   "id": "ca4e7af2",
   "metadata": {},
   "source": [
    "### Zadanie 2\n",
    "\n",
    "Wyobraźmy sobie miasto o liczbie 700 tys. mieszkańców. W mieście pojawiła się choroba i wiemy, że jedna osoba na 1000 zachorowała. Nie wiemy, które to dokładnie osoby, ale jest dostępny test, którego skuteczność wynosi 99%. Teraz wcielamy się w pacjenta, który przeprowadził test, a wynik testu jest pozytywny. Chcemy dowiedzieć się, jakie jest prawdopodobieństwo, że zachorowaliśmy.\n",
    "\n",
    "#### A)\n",
    "\n",
    "Przeprowadzić symulację komputerową:\n",
    "\n",
    "- Generujemy listę wielkości 700 tys.\n",
    "- Losowo wybieramy 700 tys./1000 (bo jedna na 1000 osob zachorowała) osób i zaznaczamy je jako chore.\n",
    "- Wybieramy losowo po 1% osob chorych i zdrowych, a następnie zaznaczamy ich diagnoze na nieprawidlowa (bo skutecznosc testu wynosi 99%).\n",
    "- Oblicz jakie jest prawdopodobienstwo ze osoba z pozytywnym wynikiem testu jest faktycznie chora (`liczba osób chorych z wynikiem pozytywnym` / `liczba wszystkich osob z wynikiem pozytywnym`).\n",
    "\n"
   ]
  },
  {
   "cell_type": "code",
   "execution_count": 2,
   "id": "a99058b7",
   "metadata": {},
   "outputs": [],
   "source": [
    "import numpy as np\n",
    "import random\n",
    "import time\n",
    "\n",
    "def changeTest(sens):\n",
    "    population = np.zeros([700000, 2])\n",
    "    population[0: 700, 0] = 1\n",
    "    population[0: 700, 1] = 1\n",
    "    false_healthy=int(700*(sens/100))\n",
    "    population[0:false_healthy,1] = 0\n",
    "    false_ill = int(((700000-700)*(sens/100))+700)\n",
    "    population[700: false_ill, 1] = 1\n",
    "    np.random.shuffle(population)\n",
    "    TP = FP = FN = TN = 0\n",
    "    for i in population:\n",
    "        if i[0] == 0 and i[1] == 0:\n",
    "            TN += 1\n",
    "        elif i[0] == 0 and i[1] == 1:\n",
    "            FP += 1\n",
    "        elif i[0] == 1 and i[1] == 0:\n",
    "            FN += 1\n",
    "        elif i[0] == 1 and i[1] == 1:\n",
    "            TP += 1\n",
    "    \n",
    "    probability = TP/(TP+FP)\n",
    "    return probability"
   ]
  },
  {
   "cell_type": "code",
   "execution_count": 3,
   "id": "0fea1c5d",
   "metadata": {
    "scrolled": true
   },
   "outputs": [
    {
     "name": "stdout",
     "output_type": "stream",
     "text": [
      "0.09016393442622951\n",
      "1.3125\n"
     ]
    }
   ],
   "source": [
    "start = time.process_time()\n",
    "probability = changeTest(1)\n",
    "print(probability)\n",
    "print(time.process_time() - start)"
   ]
  },
  {
   "cell_type": "markdown",
   "id": "46aa035b",
   "metadata": {},
   "source": [
    "#### B)\n",
    "\n",
    "Napisać funkcję, która zwróci wynik obliczony ze wzoru Bayesa. Zmierz i porównaj czas obliczeń w zad. A i zad. B\n",
    "\n"
   ]
  },
  {
   "cell_type": "code",
   "execution_count": 4,
   "id": "1119d040",
   "metadata": {},
   "outputs": [
    {
     "name": "stdout",
     "output_type": "stream",
     "text": [
      "0.09016393442622944\n",
      "0.0\n"
     ]
    }
   ],
   "source": [
    "def bayes(ill,sens):\n",
    "    probability = (ill*sens)/(ill*sens+(1-ill)*(1-sens))\n",
    "    return probability\n",
    "\n",
    "\n",
    "start = time.process_time()\n",
    "probability = bayes(0.001, 0.99)\n",
    "print(probability)\n",
    "print(time.process_time() - start)"
   ]
  },
  {
   "cell_type": "markdown",
   "id": "2850f724",
   "metadata": {},
   "source": [
    "#### C)\n",
    "\n",
    "Wyświetl wykres, gdzie na osi X znajduje się _czułość testu_ a na osi Y znajduje się _prawdopodobieństwo, że osoba z pozytywnym wynikiem jest chora_."
   ]
  },
  {
   "cell_type": "code",
   "execution_count": 5,
   "id": "7359c283",
   "metadata": {},
   "outputs": [
    {
     "data": {
      "text/plain": [
       "[<matplotlib.lines.Line2D at 0x16ce578d8c8>]"
      ]
     },
     "metadata": {},
     "output_type": "display_data"
    },
    {
     "data": {
      "image/png": "[encoded data removed]",
      "text/plain": [
       "<Figure size 1368x864 with 1 Axes>"
      ]
     },
     "metadata": {
      "needs_background": "light"
     },
     "output_type": "display_data"
    }
   ],
   "source": [
    "import matplotlib.pyplot as plt\n",
    "\n",
    "sens_lst = []\n",
    "probability_lst = []\n",
    "for i in range(1,101):\n",
    "    probability = changeTest(i)\n",
    "    sens = i/100\n",
    "    sens_lst.append(sens)\n",
    "    probability_lst.append(probability)\n",
    "    \n",
    "\n",
    "plt.figure(figsize=(19, 12))\n",
    "display(plt.plot(sens_lst, probability_lst))"
   ]
  },
  {
   "cell_type": "markdown",
   "id": "2b0253f8",
   "metadata": {},
   "source": [
    "### Zadanie 3\n",
    "\n",
    "Sprawdź (symulacją) jak często trafia się \"ręka\" zawierająca $\\ge 8$ kart w jednym kolorze z 13 kart. Czyli losujemy 13 kart z 52 (wiec \"ręki\" jak w brydzu) tak długo, aż w jakimś kolorze dostaniemy $\\ge 8$ kart. Przeprowadź 1000 takich prob i oblicz średnią. Dodatkowo wypisz jedną (np. ostatnią) taką wylosowaną rękę."
   ]
  },
  {
   "cell_type": "code",
   "execution_count": 8,
   "id": "622ec278",
   "metadata": {
    "scrolled": true
   },
   "outputs": [
    {
     "name": "stdout",
     "output_type": "stream",
     "text": [
      "34.28375243623504\n",
      "0.004941883450620701\n",
      "0.001\n",
      "202.352\n",
      "heart 1\n",
      "heart 6\n",
      "clubs 3\n",
      "clubs 6\n",
      "heart 12\n",
      "heart 13\n",
      "clubs 7\n",
      "heart 4\n",
      "heart 8\n",
      "heart 2\n",
      "clubs 4\n",
      "heart 9\n",
      "spades 1\n"
     ]
    }
   ],
   "source": [
    "class Card:\n",
    "    def __init__(self, color, value):\n",
    "        self.color = color\n",
    "        self.value = value\n",
    "        \n",
    "colors = ['heart', 'diamonds', 'spades', 'clubs']\n",
    "deck = [Card(color, value) for value in range(1, 14) for color in colors]\n",
    "timesLst = []\n",
    "sim = 1000\n",
    "for i in range(sim):\n",
    "    heartC = diamondsC = spadesC = clubsC = 0\n",
    "    times = 0\n",
    "    while not(heartC>=8 or diamondsC>=8 or spadesC>=8 or clubsC>=8):\n",
    "        heartC = diamondsC = spadesC = clubsC=0\n",
    "        times += 1\n",
    "        random.shuffle(deck)\n",
    "        hand = []\n",
    "        for i in range(13):\n",
    "            card = deck[i]\n",
    "            hand.append(card)\n",
    "        for cardInHand in hand:\n",
    "            if cardInHand.color =='heart':\n",
    "                heartC += 1\n",
    "            elif cardInHand.color =='diamonds':\n",
    "                diamondsC += 1\n",
    "            elif cardInHand.color =='spades':\n",
    "                spadesC += 1\n",
    "            elif cardInHand.color =='clubs':\n",
    "                clubsC += 1\n",
    "    timesLst.append(times)\n",
    "            \n",
    "harmonical = harmonicalAVG(timesLst)\n",
    "print(harmonical)\n",
    "print(len(timesLst)/sum(timesLst))\n",
    "print(sum(timesLst)/len(timesLst)/sum(timesLst))\n",
    "print(sum(timesLst)/sim)\n",
    "\n",
    "for i in hand:\n",
    "    print(i.color, i.value)"
   ]
  },
  {
   "cell_type": "code",
   "execution_count": null,
   "id": "4a32aecf",
   "metadata": {},
   "outputs": [],
   "source": []
  }
 ],
 "metadata": {
  "author": {
   "email": "robert.susik@p.lodz.pl",
   "name": "Robert Susik"
  },
  "kernelspec": {
   "display_name": "Python 3 (ipykernel)",
   "language": "python",
   "name": "python3"
  },
  "language_info": {
   "codemirror_mode": {
    "name": "ipython",
    "version": 3
   },
   "file_extension": ".py",
   "mimetype": "text/x-python",
   "name": "python",
   "nbconvert_exporter": "python",
   "pygments_lexer": "ipython3",
   "version": "3.7.8"
  },
  "toc": {
   "base_numbering": 1,
   "nav_menu": {},
   "number_sections": true,
   "sideBar": true,
   "skip_h1_title": false,
   "title_cell": "Table of Contents",
   "title_sidebar": "Contents",
   "toc_cell": false,
   "toc_position": {},
   "toc_section_display": true,
   "toc_window_display": false
  }
 },
 "nbformat": 4,
 "nbformat_minor": 5
}
