{
 "cells": [
  {
   "cell_type": "markdown",
   "id": "9ed56307",
   "metadata": {},
   "source": [
    "# Algorytmika i matematyka uczenia maszynowego \n",
    "## Laboratorium 2\n",
    "\n",
    "Do wykonania zadań proszę zapoznać się z metodami, właściwościami, oraz funkcjami:\n",
    "`__repr__`, `__str__`, `__add__`, `__sub__`, `__eq__`, `__lt__`, `__gt__`, `__le__`, `__ge__`, `__ne__`, `__hash__`, `__truediv__`, `__mul__`, `__class__`, `__name__`, `id`.\n",
    "\n",
    "Operatory: https://docs.python.org/3/library/operator.html\n",
    "\n",
    "\n",
    "**UWAGA**: W ninejszym laboratorium proszę nie korzystać z zewnętrzych modułów/bibliotek (poza biblioteką _matplotlib_).\n",
    "\n",
    "**UWAGA 2**: Obsługę błędów należy zrealizować w postaci wyjątków.\n",
    "\n",
    "### Zadanie 1\n",
    "\n",
    "Napisz klasę `Vector` udostępniającą funkcjonalność:\n",
    "- reprezentuje wektor dowolnej długości,\n",
    "- obiekt inicjowany listą (np. `Vector([1, 2, 3])`,\n",
    "- posiada funkcję zwracającą moduł wektora,\n",
    "- umożliwia dodawanie (`+`) i odejmowanie (`-`) wektorów. Dodaj obsługę błędów (różna długość (liczba elementów) wektora),\n",
    "- możliwość wyświetlenia wektora jako listy za pomocą funkcji `print(v)` (metoda `__str__`),\n",
    "- uruchomienie komórki zawierającej jedynie nazwę zmiennej (typu `Vector`) spowoduje wyświetlenie nazwy typu `Vector`, adresu zmiennej w pamięci (funkcja `id`) oraz jej zawartości, np. `<Vector([1, 2, 3]) at 140185630442880>` (metoda `__repr__`)"
   ]
  },
  {
   "cell_type": "code",
   "execution_count": 96,
   "id": "ac82ae76",
   "metadata": {},
   "outputs": [],
   "source": [
    "import matplotlib.pyplot as plt\n",
    "\n",
    "class Vector:\n",
    "    def __init__(self, coordinates):\n",
    "        self.coordinates = coordinates\n",
    "    \n",
    "    def __str__(self):\n",
    "        return str(self.coordinates)\n",
    "    \n",
    "    def __add__(self, secondVector):\n",
    "        if len(self.coordinates) == len(secondVector.coordinates):\n",
    "            return Vector([self.coordinates[i] + secondVector.coordinates[i] for i in range(len(self.coordinates))])\n",
    "        else:\n",
    "            raise Exception ('Wektory nie maja takich samych wymiarów')\n",
    "    \n",
    "    def __sub__(self, secondVector):\n",
    "        if len(self.coordinates) == len(secondVector.coordinates):\n",
    "            return Vector([self.coordinates[i] - secondVector.coordinates[i] for i in range(len(self.coordinates))])\n",
    "        else:\n",
    "            raise Exception ('Wektory nie maja takich samych wymiarów') \n",
    "    \n",
    "    def __repr__(self):\n",
    "        return (f'{self.__class__.__name__} {self.coordinates}, id: {id(self)}')\n",
    "    \n",
    "    def __eq__(self, secondVector):\n",
    "        lst = []\n",
    "        for i in range(len(self.coordinates)):\n",
    "            if self.coordinates[i] == secondVector.coordinates[i]:\n",
    "                lst.append(True)\n",
    "            else:\n",
    "                lst.append(False)\n",
    "        return (f'{self.__class__.__name__}, {lst}, id: {id(self)}')\n",
    "    \n",
    "    def __lt__(self, secondVector):\n",
    "        lst = []\n",
    "        for i in range(len(self.coordinates)):\n",
    "            if self.coordinates[i] < secondVector.coordinates[i]:\n",
    "                lst.append(True)\n",
    "            else:\n",
    "                lst.append(False)\n",
    "        return (f'{self.__class__.__name__}, {lst}, id: {id(self)}')\n",
    "    \n",
    "    def __le__(self, secondVector):\n",
    "        lst = []\n",
    "        for i in range(len(self.coordinates)):\n",
    "            if self.coordinates[i] <= secondVector.coordinates[i]:\n",
    "                lst.append(True)\n",
    "            else:\n",
    "                lst.append(False)\n",
    "        return (f'{self.__class__.__name__}, {lst}, id: {id(self)}')\n",
    "    \n",
    "    def __ne__(self, secondVector):\n",
    "        lst = []\n",
    "        for i in range(len(self.coordinates)):\n",
    "            if self.coordinates[i] != secondVector.coordinates[i]:\n",
    "                lst.append(True)\n",
    "            else:\n",
    "                lst.append(False)\n",
    "        return (f'{self.__class__.__name__}, {lst}, id: {id(self)}')\n",
    "    \n",
    "    def __ge__(self, secondVector):\n",
    "        lst = []\n",
    "        for i in range(len(self.coordinates)):\n",
    "            if self.coordinates[i] >= secondVector.coordinates[i]:\n",
    "                lst.append(True)\n",
    "            else:\n",
    "                lst.append(False)\n",
    "        return (f'{self.__class__.__name__}, {lst}, id: {id(self)}')\n",
    "    \n",
    "    def __gt__(self, secondVector):\n",
    "        lst = []\n",
    "        for i in range(len(self.coordinates)):\n",
    "            if self.coordinates[i] > secondVector.coordinates[i]:\n",
    "                lst.append(True)\n",
    "            else:\n",
    "                lst.append(False)\n",
    "        return (f'{self.__class__.__name__}, {lst}, id: {id(self)}')\n",
    "    \n",
    "    def plot(self):\n",
    "        if len(self.coordinates) == 2:\n",
    "            x_values = [0,self.coordinates[0]]\n",
    "            y_values = [0, self.coordinates[1]]\n",
    "            plt.plot(x_values, y_values)\n",
    "            plt.show()\n",
    "        else:\n",
    "            raise Exception ('Wektor nie jest dwu wymiarowy')\n",
    "            \n",
    "    def __hash__(self):\n",
    "        return hash(tuple(self.coordinates))\n",
    "    \n",
    "    def __mul__(self, scalar):\n",
    "        lst = []\n",
    "        for i in self.coordinates:\n",
    "            lst.append(scalar * i)\n",
    "        return Vector(lst)\n",
    "        \n",
    "    def vector_len(self):\n",
    "        vector_len = 0\n",
    "        for i in self.coordinates:\n",
    "            vector_len += i**2\n",
    "        vector_len = vector_len**0.5\n",
    "        print(vector_len)\n"
   ]
  },
  {
   "cell_type": "code",
   "execution_count": 97,
   "id": "36143dcb",
   "metadata": {},
   "outputs": [
    {
     "name": "stdout",
     "output_type": "stream",
     "text": [
      "[3, 5, 8]\n",
      "[-1, -1, 0]\n"
     ]
    },
    {
     "data": {
      "text/plain": [
       "Vector [1, 2, 4], id: 1652930240032"
      ]
     },
     "execution_count": 97,
     "metadata": {},
     "output_type": "execute_result"
    }
   ],
   "source": [
    "v1 = Vector([1,2,4])\n",
    "v2 = Vector([2,3,4])\n",
    "tot = v1 + v2\n",
    "sub = v1 - v2\n",
    "print(tot)\n",
    "print(sub)\n",
    "v1"
   ]
  },
  {
   "cell_type": "markdown",
   "id": "87da7375",
   "metadata": {},
   "source": [
    "### Zadanie 2\n",
    "\n",
    "Do wcześniej zaimplementowanej klasy dopisz funkcje pozwalające na porównanie wektorów za pomocą operatorów: `==`, `>=`, `<=`, `>`, `<`, `!=`. Porównanie ma zostać wykonane na poziomie elementów wektorów (_element wise_), poniżej przykład:\n",
    "\n",
    "```ipython\n",
    " In [1]: a = Vector([1, 2, 3]) \\\n",
    "    ...: b = Vector([3, 2, 1]) \\\n",
    "    ...: a <= b\n",
    "Out [1]: <Vector([True, True, False]) at 140185575662832>\n",
    "```"
   ]
  },
  {
   "cell_type": "code",
   "execution_count": 98,
   "id": "3b99972a",
   "metadata": {},
   "outputs": [
    {
     "name": "stdout",
     "output_type": "stream",
     "text": [
      "Vector, [False, False, True], id: 1652929440256\n",
      "Vector, [False, False, True], id: 1652929440256\n",
      "Vector, [True, True, True], id: 1652929440256\n",
      "Vector, [False, False, False], id: 1652929440256\n",
      "Vector, [True, True, False], id: 1652929440256\n",
      "Vector, [True, True, False], id: 1652929440256\n"
     ]
    }
   ],
   "source": [
    "v1 = Vector([1,2,4])\n",
    "v2 = Vector([2,3,4])\n",
    "print(v1 == v2)\n",
    "print(v1 >= v2)\n",
    "print(v1 <= v2)\n",
    "print(v1 > v2)\n",
    "print(v1 < v2)\n",
    "print(v1 != v2)"
   ]
  },
  {
   "cell_type": "markdown",
   "id": "d8e9a446",
   "metadata": {},
   "source": [
    "### Zadanie 3\n",
    "\n",
    "Do klasy `Vector` dopisz funkcję umożliwiającą wyświetlenie wektora na wykresie (zaimplementuj wyświetlanie za pomocą biblioteki `matplotlib`. \n",
    "\n",
    "> **UWAGA**: Funkcja powinna działać tylko dla wektora o dwóch wymiarach (dwuelementowa lista) - wykres 2D i wyświetlać komunikat jeżeli wymiar jest inny.\n",
    "\n",
    "> Podpowiedź: możesz wykorzystać funkcję [matplotlib.pyplot.arrow](https://matplotlib.org/3.5.1/api/_as_gen/matplotlib.pyplot.arrow.html)"
   ]
  },
  {
   "cell_type": "code",
   "execution_count": 99,
   "id": "c9f9de7b",
   "metadata": {},
   "outputs": [
    {
     "data": {
      "image/png": "[encoded data removed]",
      "text/plain": [
       "<Figure size 432x288 with 1 Axes>"
      ]
     },
     "metadata": {
      "needs_background": "light"
     },
     "output_type": "display_data"
    }
   ],
   "source": [
    "v1 = Vector([1,2])\n",
    "v1.plot()"
   ]
  },
  {
   "cell_type": "markdown",
   "id": "ebc3c411",
   "metadata": {},
   "source": [
    "### Zadanie 4\n",
    "\n",
    "Dodaj możliwość zastosowania obiektu klasy `Vector` jako klucza w słowniku. Np.:\n",
    "\n",
    "```python\n",
    "d = {\n",
    "    Vector([1, 2, 3]): 'Wektor 1',\n",
    "    Vector([2, 2, 3]): 'Wektor 2'\n",
    "}\n",
    "d[Vector([2, 2, 3])]\n",
    "```"
   ]
  },
  {
   "cell_type": "code",
   "execution_count": 100,
   "id": "d1db2d39",
   "metadata": {},
   "outputs": [
    {
     "data": {
      "text/plain": [
       "'Wektor 2'"
      ]
     },
     "execution_count": 100,
     "metadata": {},
     "output_type": "execute_result"
    }
   ],
   "source": [
    "d = {\n",
    "    Vector([1, 2, 3]): 'Wektor 1',\n",
    "    Vector([2, 2, 3]): 'Wektor 2'\n",
    "}\n",
    "\n",
    "d[Vector([2, 2, 3])]"
   ]
  },
  {
   "cell_type": "markdown",
   "id": "8aec816a",
   "metadata": {},
   "source": [
    "### Zadanie 5\n",
    "\n",
    "Dodaj funkcjonalność:\n",
    "- dzielenia przez skalar (np. `Vector([2, 4]) / 2`),\n",
    "- mnożenia przez skalar (np. `Vector([2, 4]) * 2`).\n",
    "\n",
    "> Podpowiedź: Pamiętaj o obsłudze błędów."
   ]
  },
  {
   "cell_type": "code",
   "execution_count": 101,
   "id": "2bb3d9bb",
   "metadata": {},
   "outputs": [
    {
     "data": {
      "text/plain": [
       "Vector [4, 8], id: 1652930867152"
      ]
     },
     "execution_count": 101,
     "metadata": {},
     "output_type": "execute_result"
    }
   ],
   "source": [
    "Vector([2, 4]) * 2"
   ]
  },
  {
   "cell_type": "code",
   "execution_count": null,
   "id": "bcba894f",
   "metadata": {},
   "outputs": [],
   "source": []
  }
 ],
 "metadata": {
  "author": {
   "email": "robert.susik@p.lodz.pl",
   "name": "Robert Susik"
  },
  "kernelspec": {
   "display_name": "Python 3 (ipykernel)",
   "language": "python",
   "name": "python3"
  },
  "language_info": {
   "codemirror_mode": {
    "name": "ipython",
    "version": 3
   },
   "file_extension": ".py",
   "mimetype": "text/x-python",
   "name": "python",
   "nbconvert_exporter": "python",
   "pygments_lexer": "ipython3",
   "version": "3.9.2"
  },
  "toc": {
   "base_numbering": 1,
   "nav_menu": {},
   "number_sections": true,
   "sideBar": true,
   "skip_h1_title": false,
   "title_cell": "Table of Contents",
   "title_sidebar": "Contents",
   "toc_cell": false,
   "toc_position": {},
   "toc_section_display": true,
   "toc_window_display": false
  }
 },
 "nbformat": 4,
 "nbformat_minor": 5
}
