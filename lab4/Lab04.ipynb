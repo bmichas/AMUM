{
 "cells": [
  {
   "cell_type": "markdown",
   "id": "59b5dc28",
   "metadata": {},
   "source": [
    "# Algorytmika i matematyka uczenia maszynowego \n",
    "## Laboratorium 4\n",
    "\n",
    "Do wykonania laboratorium należy skorzystać z bibliotek:\n",
    "- [numpy](https://numpy.org/)\n",
    "- [matplotlib](https://matplotlib.org/)\n",
    "\n",
    "### Zadanie 1\n",
    "\n",
    "Dana jest następująca lista prostokątów:\n",
    "\n",
    "```\n",
    "rectangles = [(\"R1\", 5, 4.5), (\"Szeroki\", 11, 3), (\"R2\", 4, 6), (\"Wąski\", 3, 8), (\"Kwadrat 1\", 5, 5), (\"Kwadrat 2\", 4.5, 4.5)] \n",
    "```\n",
    "\n",
    "gdzie kolejne pola krotek to: \n",
    "- nazwa, \n",
    "- szerokość, \n",
    "- wysokość.\n",
    "\n",
    "#### A) \n",
    "Na jej bazie utwórz ustrukturalizowaną tablicę Numpy (`np.array(...)`), następnie posortuj dane prostokąty rosnąco po polu, a w przypadku równości niech decyduje (alfabetycznie) nazwa prostokąta.\n",
    "\n",
    "#### B) \n",
    "Wypisz posortowaną tablicę, w kolejności pól: \n",
    "1. szerokość, \n",
    "2. wysokość, \n",
    "3. nazwa.\n",
    "\n",
    "> Uwaga: Gdzie to możliwe, działaj na typach i funkcjach z biblioteki Numpy.\n",
    "\n"
   ]
  },
  {
   "cell_type": "code",
   "execution_count": 3,
   "id": "adf73c67",
   "metadata": {
    "scrolled": true
   },
   "outputs": [
    {
     "data": {
      "text/plain": [
       "array([('Kwadrat 2',  4.5, 4.5, 20.25), ('R1',  5. , 4.5, 22.5 ),\n",
       "       ('R2',  4. , 6. , 24.  ), ('Wąski',  3. , 8. , 24.  ),\n",
       "       ('Kwadrat 1',  5. , 5. , 25.  ), ('Szeroki', 11. , 3. , 33.  )],\n",
       "      dtype=[('name', '<U32'), ('width', '<f8'), ('height', '<f8'), ('field', '<f8')])"
      ]
     },
     "execution_count": 3,
     "metadata": {},
     "output_type": "execute_result"
    }
   ],
   "source": [
    "import numpy as np\n",
    "\n",
    "rectangles = [(\"R1\", 5, 4.5), (\"Szeroki\", 11, 3), (\"R2\", 4, 6), (\"Wąski\", 3, 8), (\"Kwadrat 1\", 5, 5), (\"Kwadrat 2\", 4.5, 4.5)]\n",
    "\n",
    "rectangles_new = list()\n",
    "for i in rectangles:\n",
    "    field = i[1] * i[2]\n",
    "    i = i + (field,)\n",
    "    rectangles_new.append(i)\n",
    "\n",
    "dtype_rectangles = [('name', 'U32'), ('width', float), ('height', float),('field', float)]\n",
    "np_rectangles = np.array(rectangles_new, dtype=dtype_rectangles)\n",
    "\n",
    "np_rectangles = np.sort(np_rectangles, order=['field', 'name']) \n",
    "np_rectangles"
   ]
  },
  {
   "cell_type": "code",
   "execution_count": 2,
   "id": "043d674c",
   "metadata": {},
   "outputs": [
    {
     "name": "stdout",
     "output_type": "stream",
     "text": [
      "-----------------------------------------------------------------\n",
      "         4.5          |        4.5         |     Kwadrat 2      \n",
      "-----------------------------------------------------------------\n",
      "         5.0          |        4.5         |         R1         \n",
      "-----------------------------------------------------------------\n",
      "         4.0          |        6.0         |         R2         \n",
      "-----------------------------------------------------------------\n",
      "         3.0          |        8.0         |       Wąski        \n",
      "-----------------------------------------------------------------\n",
      "         5.0          |        5.0         |     Kwadrat 1      \n",
      "-----------------------------------------------------------------\n",
      "         11.0         |        3.0         |      Szeroki       \n"
     ]
    }
   ],
   "source": [
    "for row in np_rectangles:\n",
    "    print(65*'-')\n",
    "    print(f'{row[1]:^22}|{row[2]:^20}|{row[0]:^20}')  "
   ]
  },
  {
   "cell_type": "markdown",
   "id": "ca4e7af2",
   "metadata": {},
   "source": [
    "### Zadanie 2 - gra 2048\n",
    "\n",
    "Dana jest kwadratowa plansza o boku `SIZE` (np. 4) dla znanej gry 2048 (https://2048game.com/pl/). \n",
    "Każdy wiersz zawiera od 0 do 4 liczb. Należy, z wykorzystaniem konstrukcji Numpy, zasymulować ruch w lewo, w prawo, w górę i w dół planszy zgodnie z regułami gry (ale **BEZ** dodawania nowego kafelka w losowym miejscu). Innymi słowy, trzeba napisać cztery funkcje: \n",
    "- `move_left(...)`, \n",
    "- `move_right(...)`, \n",
    "- `move_up(...)`, \n",
    "- `move_down(...)`.\n",
    "\n",
    "Przykład ruchu w prawo:\n",
    "\n",
    "Wejściem i wyjściem każdej z obu funkcji jest 2-wymiarowa tablica Numpy.\n",
    "\n",
    "> UWAGA: postaraj się napisać funkcję tylko do jednego ruchu, a pozostałe trzy niech się do niej w sprytny sposób odwołują."
   ]
  },
  {
   "cell_type": "code",
   "execution_count": 16,
   "id": "10188f1a",
   "metadata": {},
   "outputs": [],
   "source": [
    "def sum_row(lst,count):\n",
    "    new_lst = []\n",
    "    row_to_insert = np.zeros(count)\n",
    "    \n",
    "    if len(lst) == 1:\n",
    "        new_lst = lst\n",
    "    elif len(lst) == 2:\n",
    "        for i in range(len(lst)):\n",
    "            if i == 0:\n",
    "                if lst[i] == lst[i+1]:\n",
    "                    new_lst.append(lst[i]*2)\n",
    "                else:\n",
    "                    new_lst = lst\n",
    "    else:\n",
    "        for i in range(len(lst)):\n",
    "            if i == 0:\n",
    "                if lst[i] == lst[i+1]:\n",
    "                    pass\n",
    "                else:\n",
    "                    new_lst.append(lst[i])\n",
    "            elif i == len(lst) - 1:\n",
    "                if lst[i] == lst[i-1] and lst[i-1] == 0:\n",
    "                    pass\n",
    "                else:\n",
    "                    new_lst.append(lst[i])\n",
    "            else:\n",
    "                if lst[i-1] == lst[i]:\n",
    "                    new_lst.append(lst[i] * 2)\n",
    "                    lst[i] = 0\n",
    "                else:\n",
    "                    if lst[i] == lst[i + 1]:\n",
    "                        new_lst.append(lst[i] * 2)\n",
    "                        lst[i + 1] = 0\n",
    "                    else:\n",
    "                        new_lst.append(lst[i])\n",
    "    for i in range(len(new_lst)):\n",
    "        row_to_insert[i] = new_lst[i]\n",
    "    return row_to_insert\n",
    "\n",
    "def move_left(matrix):\n",
    "    for i in range(len(matrix)):\n",
    "        lst = list()\n",
    "        for j in range(len(matrix)):\n",
    "            if matrix[i][j] != 0:\n",
    "                lst.append(matrix[i][j])\n",
    "                matrix[i][j] = 0\n",
    "        matrix[i] = sum_row(lst,len(matrix[i]))\n",
    "    return matrix\n",
    "\n",
    "def move_right(matrix):\n",
    "    pass\n",
    "\n",
    "def move_up(matrix):\n",
    "    pass \n",
    "\n",
    "def move_down(matrix):\n",
    "    pass            "
   ]
  },
  {
   "cell_type": "code",
   "execution_count": 22,
   "id": "7634e233",
   "metadata": {},
   "outputs": [
    {
     "name": "stdout",
     "output_type": "stream",
     "text": [
      "[[8 8 0 0 0]\n",
      " [2 8 0 4 0]\n",
      " [2 4 0 0 0]\n",
      " [8 0 0 0 0]\n",
      " [8 0 0 0 0]]\n"
     ]
    }
   ],
   "source": [
    "matrix = np.array([[0,4,4,4,4],\n",
    "                   [2,4,4,0,4],\n",
    "                   [0,0,2,0,4],\n",
    "                   [0,4,0,0,4],\n",
    "                   [0,4,0,0,4]])\n",
    "matrix = move_left(matrix)\n",
    "print(matrix)"
   ]
  },
  {
   "cell_type": "code",
   "execution_count": 4,
   "id": "ba299a42",
   "metadata": {},
   "outputs": [],
   "source": [
    "def left_row(arr):\n",
    "    x = len(arr)\n",
    "    arr = arr[arr !=0]\n",
    "    for i in range(len(arr)):\n",
    "        if i < (len(arr)-1):\n",
    "            if arr[i] == arr[i+1]:\n",
    "                arr[i] = arr[i]*2\n",
    "                print(arr)\n",
    "                arr = np.delete(arr, i+1)\n",
    "                print(arr)\n",
    "                \n",
    "    for i in range(x - len(arr)):\n",
    "        arr = np.append(arr, 0)\n",
    "     \n",
    "    return arr\n",
    "\n",
    "def move_left(arr):\n",
    "    for y in range(arr.shape[0]):\n",
    "        arr[y] = left_row(arr[y])\n",
    "    return arr"
   ]
  },
  {
   "cell_type": "code",
   "execution_count": 5,
   "id": "cb5672ba",
   "metadata": {},
   "outputs": [
    {
     "name": "stdout",
     "output_type": "stream",
     "text": [
      "[4 2 2 4 4]\n",
      "[4 2 4 4]\n",
      "[4 2 8 4]\n",
      "[4 2 8]\n",
      "[2 8 4 4]\n",
      "[2 8 4]\n",
      "[8 4]\n",
      "[8]\n",
      "[8 4]\n",
      "[8]\n",
      "[[4 2 8 0 0]\n",
      " [2 8 4 0 0]\n",
      " [2 4 0 0 0]\n",
      " [8 0 0 0 0]\n",
      " [8 0 0 0 0]]\n"
     ]
    }
   ],
   "source": [
    "matrix = np.array([[2,2,2,4,4],\n",
    "                   [2,4,4,0,4],\n",
    "                   [0,0,2,0,4],\n",
    "                   [0,4,0,0,4],\n",
    "                   [0,4,0,0,4]])\n",
    "matrix = move_left(matrix)\n",
    "print(matrix)"
   ]
  },
  {
   "cell_type": "code",
   "execution_count": null,
   "id": "54ad87f0",
   "metadata": {},
   "outputs": [],
   "source": []
  }
 ],
 "metadata": {
  "author": {
   "email": "robert.susik@p.lodz.pl",
   "name": "Robert Susik"
  },
  "kernelspec": {
   "display_name": "Python 3 (ipykernel)",
   "language": "python",
   "name": "python3"
  },
  "language_info": {
   "codemirror_mode": {
    "name": "ipython",
    "version": 3
   },
   "file_extension": ".py",
   "mimetype": "text/x-python",
   "name": "python",
   "nbconvert_exporter": "python",
   "pygments_lexer": "ipython3",
   "version": "3.7.8"
  },
  "toc": {
   "base_numbering": 1,
   "nav_menu": {},
   "number_sections": true,
   "sideBar": true,
   "skip_h1_title": false,
   "title_cell": "Table of Contents",
   "title_sidebar": "Contents",
   "toc_cell": false,
   "toc_position": {},
   "toc_section_display": true,
   "toc_window_display": false
  }
 },
 "nbformat": 4,
 "nbformat_minor": 5
}
