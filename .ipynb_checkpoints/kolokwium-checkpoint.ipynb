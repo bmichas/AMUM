{
 "cells": [
  {
   "cell_type": "markdown",
   "id": "bedecc37",
   "metadata": {},
   "source": [
    "# Kolokwium\n",
    "\n",
    "Za pomocą nanosensorów umieszczonych w pomieszczeniu przeprowadzono eksperyment rozpoznawania aktywności wykonywanej przez osobę znajdującą się w pobliżu.\n",
    "\n",
    "### Zbiór danych\n",
    "\n",
    "Dany jest zbiór danych odczytów z ośmiu nanosensorów umieszczonych w pomieszczeniu (pierwsze 8 kolumn) oraz klasa mówiąca jaką czynność wykonuje osoba znajdująca się w pobliżu:\n",
    "- 0: chodzenie,\n",
    "- 1: bieganie,\n",
    "- 2: skakanie,\n",
    "- 3: przysiady.\n",
    "\n",
    "\n",
    "### Zadanie\n",
    "\n",
    "#### 1) Wczytaj dane z pliku `dane.npz`. Plik ten zawiera wspomniany zbiór danych.\n",
    "\n",
    "Podziel dane na dwie części zachowując kolejność:\n",
    "* dane treningowe (pierwsza połowa zbioru),\n",
    "* dane testowe (druga połowa zbioru).\n",
    "\n",
    "#### 2) Przeprowadź wstępną analizę danych.\n",
    "\n",
    "* A) Odpowiedz na pytanie: Czy dane należy znormalizować?\n",
    "* B) Odpowiedz na pytanie: Jaka jest liczba próbek w poszczególnych klasach?\n",
    "\n",
    "#### 3) W zależności od potrzeby przeprowadz normalizację.\n",
    "\n",
    "#### 4) Wykonaj klasyfikację klasyfikatorem kNN, znajdź optymalne $k$, podaj wynik `accuracy`.\n",
    "\n",
    "#### 5) Wykonaj selekcję cech i znajdź te cechy i takie $k$ (liczba są siadów) dla których jesteśmy w stanie uzyskać najlepszy wynik klasyfikatora.\n",
    "\n",
    "#### 6) Opisz wynik klasyfikatora.\n",
    "    Wyświetl tablicę pomyłek (dane powinny być opisane czytelnie), opisz tablicę pomyłek, napisz wnioski końcowe.\n",
    "\n",
    "> UWAGA: Powinienś starać się uzyskać jak najlepszy wynik klasyfikatora.\n",
    "\n",
    "\n",
    "### Przydatne kody:\n",
    "\n",
    "#### Wczytanie danych:\n",
    "```python\n",
    "import numpy as np\n",
    "with open('./dane.npz', 'rb') as f:\n",
    "    content = np.load(f)\n",
    "    columns, data = content['columns'], content['data']\n",
    "```\n",
    "\n",
    "#### Przykład uruchomienia klasyfikatora:\n",
    "```python\n",
    "from sklearn.neighbors import KNeighborsClassifier\n",
    "X = [[0], [1], [2], [3]]\n",
    "y = [0, 0, 1, 1]\n",
    "neigh = KNeighborsClassifier(n_neighbors=3)\n",
    "neigh.fit(X, y)\n",
    "print(neigh.predict([[1.1]]))\n",
    "```\n",
    "\n",
    "#### Przykład uruchomienia selekcji:\n",
    "```python\n",
    "from sklearn.datasets import load_digits\n",
    "from sklearn.feature_selection import SelectKBest, chi2\n",
    "X, y = load_digits(return_X_y=True)\n",
    "SelectKBest(k=20).fit_transform(X, y)\n",
    "```\n",
    "\n",
    "#### Przykład wyświetlenia wykresu:\n",
    "```python\n",
    "import matplotlib.pyplot as plt\n",
    "plt.figure()\n",
    "plt.title('wykres')\n",
    "plt.xlabel('os x')\n",
    "plt.ylabel('os y')\n",
    "plt.scatter([1, 2, 3, 4, 5], [3, 2, 3, 4, 4], label='etykieta')\n",
    "plt.legend()\n",
    "```\n",
    "\n",
    "#### Przykład użycia biblioteki scikit-learn do utworzenia tablicy pomyłek:\n",
    "```python\n",
    "from sklearn.metrics import confusion_matrix\n",
    "y_true = [2, 0, 2, 2, 0, 1]\n",
    "y_pred = [0, 0, 2, 2, 0, 2]\n",
    "confusion_matrix(y_true, y_pred)\n",
    "```"
   ]
  },
  {
   "cell_type": "code",
   "execution_count": 1,
   "id": "5604fd8c",
   "metadata": {},
   "outputs": [],
   "source": [
    "import numpy as np\n",
    "import pandas as pd\n",
    "import matplotlib.pyplot as plt\n",
    "from sklearn.ensemble import ExtraTreesClassifier\n",
    "from sklearn.neighbors import KNeighborsClassifier\n",
    "from sklearn import metrics"
   ]
  },
  {
   "cell_type": "markdown",
   "id": "12db29ed",
   "metadata": {},
   "source": [
    "# Zad 1"
   ]
  },
  {
   "cell_type": "code",
   "execution_count": 2,
   "id": "f3671865",
   "metadata": {},
   "outputs": [
    {
     "data": {
      "text/plain": [
       "array(['Sensor 1', 'Sensor 2', 'Sensor 3', 'Sensor 4', 'Sensor 5',\n",
       "       'Sensor 6', 'Sensor 7', 'Sensor 8', 'Class'], dtype='<U8')"
      ]
     },
     "execution_count": 2,
     "metadata": {},
     "output_type": "execute_result"
    }
   ],
   "source": [
    "import numpy as np\n",
    "with open('./dane.npz', 'rb') as f:\n",
    "    content = np.load(f)\n",
    "    columns, data = content['columns'], content['data']\n",
    "    \n",
    "columns"
   ]
  },
  {
   "cell_type": "code",
   "execution_count": 3,
   "id": "d1c04528",
   "metadata": {},
   "outputs": [
    {
     "data": {
      "text/plain": [
       "array([[ 1.00554263e+02, -9.34741413e-01,  4.29412367e+02, ...,\n",
       "         7.85814363e-02,  1.14707310e+00,  3.00000000e+00],\n",
       "       [ 1.04414916e+02, -6.07492031e-01,  3.87407366e+02, ...,\n",
       "         4.46353091e-02,  3.91238557e-01,  3.00000000e+00],\n",
       "       [ 1.01017630e+02, -7.27422646e-01,  3.89455364e+02, ...,\n",
       "         1.98490282e-01,  1.27793305e+00,  2.00000000e+00],\n",
       "       ...,\n",
       "       [ 1.05376335e+02, -2.41872197e-01,  3.84202411e+02, ...,\n",
       "        -1.34054306e-01, -7.08335342e-01,  3.00000000e+00],\n",
       "       [ 1.08243863e+02, -8.93942056e-01,  3.97800506e+02, ...,\n",
       "        -6.69058706e-02,  1.20031089e+00,  3.00000000e+00],\n",
       "       [ 1.06384324e+02,  1.27767280e+00,  4.23206168e+02, ...,\n",
       "        -2.07636714e-01, -3.62658387e-01,  1.00000000e+00]])"
      ]
     },
     "execution_count": 3,
     "metadata": {},
     "output_type": "execute_result"
    }
   ],
   "source": [
    "data"
   ]
  },
  {
   "cell_type": "code",
   "execution_count": 4,
   "id": "4b60d578",
   "metadata": {},
   "outputs": [],
   "source": [
    "y = data[:,-1]\n",
    "X = data[:, [i for i in range(len(data[0])-1)]]"
   ]
  },
  {
   "cell_type": "code",
   "execution_count": 5,
   "id": "a23a0f33",
   "metadata": {},
   "outputs": [],
   "source": [
    "y_test = y[2000:4000,]\n",
    "X_test = X[2000:4000,]\n",
    "y_train = y[0:2000,]\n",
    "X_train = X[0:2000,]\n",
    "\n",
    "print(X_test)"
   ]
  },
  {
   "cell_type": "markdown",
   "id": "c3fb565a",
   "metadata": {},
   "source": [
    "# Zad 2 i 3\n",
    "    Po wczytaniu danych odrazu jest wyświetliłem i stwierdzam że dane należy znormalizować ponieważ są duże rozbierzności w ich wartościach. Jednak w dalszych krokach przeprowadze analize na znormalizowanych i nie. Poniżej przeliczone ilości dla każdej cechy:"
   ]
  },
  {
   "cell_type": "code",
   "execution_count": 6,
   "id": "998f39b7",
   "metadata": {},
   "outputs": [
    {
     "name": "stdout",
     "output_type": "stream",
     "text": [
      "0 986\n",
      "1 983\n",
      "2 1017\n",
      "3 1014\n"
     ]
    }
   ],
   "source": [
    "for i in range(4):\n",
    "    print(i, np.count_nonzero(y == (i)))"
   ]
  },
  {
   "cell_type": "code",
   "execution_count": 7,
   "id": "5327bbd7",
   "metadata": {},
   "outputs": [],
   "source": [
    "def normalize(matrix):\n",
    "    return (matrix - np.mean(matrix)/np.max(matrix) - np.min(matrix))"
   ]
  },
  {
   "cell_type": "code",
   "execution_count": 22,
   "id": "c540eb25",
   "metadata": {},
   "outputs": [
    {
     "data": {
      "text/plain": [
       "array([[ 30.96081901,   2.0814953 , 118.75394707, ...,  -0.98864397,\n",
       "         -0.47726765,   4.98549782],\n",
       "       [ 34.82147198,   2.40874468,  76.74894653, ...,  -0.99020098,\n",
       "         -0.51121377,   4.22966328],\n",
       "       [ 31.42418582,   2.28881407,  78.79694474, ...,  -0.99403505,\n",
       "         -0.3573588 ,   5.11635777],\n",
       "       ...,\n",
       "       [ 41.01841784,   4.43251601, 122.84958868, ...,  -0.99599578,\n",
       "         -0.40997436,   2.65563515],\n",
       "       [ 33.96998572,   1.56379404,  97.87134108, ...,  -0.98677837,\n",
       "         -0.53738127,   4.72424589],\n",
       "       [ 22.28119319,   3.93794635,  69.97120372, ...,  -0.99683896,\n",
       "         -0.24620028,   4.79705021]])"
      ]
     },
     "execution_count": 22,
     "metadata": {},
     "output_type": "execute_result"
    }
   ],
   "source": [
    "X_testNorm = normalize(X_test)\n",
    "X_trainNorm = normalize(X_train)\n",
    "\n",
    "X_testNorm[:,0] = normalize(X_test[:,0])\n",
    "X_testNorm[:,1] = normalize(X_test[:,1]) \n",
    "X_testNorm[:,2] = normalize(X_test[:,2]) \n",
    "X_testNorm[:,3] = normalize(X_test[:,3])\n",
    "X_testNorm[:,4] = normalize(X_test[:,4]) \n",
    "X_testNorm[:,5] = normalize(X_test[:,5])\n",
    "X_testNorm[:,6] = normalize(X_test[:,6])\n",
    "X_testNorm[:,7] = normalize(X_test[:,7])\n",
    "\n",
    "X_trainNorm[:,0] = normalize(X_trainNorm[:,0])\n",
    "X_trainNorm[:,1] = normalize(X_trainNorm[:,1]) \n",
    "X_trainNorm[:,2] = normalize(X_trainNorm[:,2]) \n",
    "X_trainNorm[:,3] = normalize(X_trainNorm[:,3])\n",
    "X_trainNorm[:,4] = normalize(X_trainNorm[:,4]) \n",
    "X_trainNorm[:,5] = normalize(X_trainNorm[:,5])\n",
    "X_trainNorm[:,6] = normalize(X_trainNorm[:,6])\n",
    "X_trainNorm[:,7] = normalize(X_trainNorm[:,7])\n",
    "    "
   ]
  },
  {
   "cell_type": "markdown",
   "id": "4e1a5302",
   "metadata": {},
   "source": [
    "# Zad 4"
   ]
  },
  {
   "cell_type": "markdown",
   "id": "73bcdbbe",
   "metadata": {},
   "source": [
    "### Bez normalizacji"
   ]
  },
  {
   "cell_type": "code",
   "execution_count": 9,
   "id": "51f8eca3",
   "metadata": {},
   "outputs": [
    {
     "name": "stdout",
     "output_type": "stream",
     "text": [
      "Accuracy: 0.252\n",
      "bAccuracy: 0.25872910288210915\n"
     ]
    }
   ],
   "source": [
    "kNeigh = KNeighborsClassifier(n_neighbors = 2)\n",
    "kNeigh.fit(X_train, y_train)\n",
    "kNeighPred = kNeigh.predict(X_test)\n",
    "my_acc = metrics.accuracy_score(kNeighPred,y_test)\n",
    "my_bAcc = metrics.balanced_accuracy_score(kNeighPred,y_test)\n",
    "print('Accuracy:', my_acc)\n",
    "print('bAccuracy:', my_bAcc)"
   ]
  },
  {
   "cell_type": "code",
   "execution_count": 10,
   "id": "43a727a5",
   "metadata": {},
   "outputs": [
    {
     "name": "stdout",
     "output_type": "stream",
     "text": [
      "Accuracy: 0.26\n",
      "bAccuracy: 0.2669185772020742\n"
     ]
    }
   ],
   "source": [
    "kNeigh = KNeighborsClassifier(n_neighbors = 3)\n",
    "kNeigh.fit(X_train, y_train)\n",
    "kNeighPred = kNeigh.predict(X_test)\n",
    "my_acc = metrics.accuracy_score(kNeighPred,y_test)\n",
    "my_bAcc = metrics.balanced_accuracy_score(kNeighPred,y_test)\n",
    "print('Accuracy:', my_acc)\n",
    "print('bAccuracy:', my_bAcc)"
   ]
  },
  {
   "cell_type": "code",
   "execution_count": 11,
   "id": "f90dfa1f",
   "metadata": {},
   "outputs": [
    {
     "name": "stdout",
     "output_type": "stream",
     "text": [
      "Accuracy: 0.2525\n",
      "bAccuracy: 0.25457623903453735\n"
     ]
    }
   ],
   "source": [
    "kNeigh = KNeighborsClassifier(n_neighbors = 4)\n",
    "kNeigh.fit(X_train, y_train)\n",
    "kNeighPred = kNeigh.predict(X_test)\n",
    "my_acc = metrics.accuracy_score(kNeighPred,y_test)\n",
    "my_bAcc = metrics.balanced_accuracy_score(kNeighPred,y_test)\n",
    "print('Accuracy:', my_acc)\n",
    "print('bAccuracy:', my_bAcc)"
   ]
  },
  {
   "cell_type": "code",
   "execution_count": 12,
   "id": "2744050a",
   "metadata": {},
   "outputs": [
    {
     "name": "stdout",
     "output_type": "stream",
     "text": [
      "Accuracy: 0.2495\n",
      "bAccuracy: 0.25074407699577\n"
     ]
    }
   ],
   "source": [
    "kNeigh = KNeighborsClassifier(n_neighbors = 5)\n",
    "kNeigh.fit(X_train, y_train)\n",
    "kNeighPred = kNeigh.predict(X_test)\n",
    "my_acc = metrics.accuracy_score(kNeighPred,y_test)\n",
    "my_bAcc = metrics.balanced_accuracy_score(kNeighPred,y_test)\n",
    "print('Accuracy:', my_acc)\n",
    "print('bAccuracy:', my_bAcc)"
   ]
  },
  {
   "cell_type": "code",
   "execution_count": 13,
   "id": "115dda43",
   "metadata": {},
   "outputs": [
    {
     "name": "stdout",
     "output_type": "stream",
     "text": [
      "Accuracy: 0.259\n",
      "bAccuracy: 0.2629311205023159\n"
     ]
    }
   ],
   "source": [
    "kNeigh = KNeighborsClassifier(n_neighbors = 6)\n",
    "kNeigh.fit(X_train, y_train)\n",
    "kNeighPred = kNeigh.predict(X_test)\n",
    "my_acc = metrics.accuracy_score(kNeighPred,y_test)\n",
    "my_bAcc = metrics.balanced_accuracy_score(kNeighPred,y_test)\n",
    "print('Accuracy:', my_acc)\n",
    "print('bAccuracy:', my_bAcc)"
   ]
  },
  {
   "cell_type": "code",
   "execution_count": 14,
   "id": "50fb52f0",
   "metadata": {},
   "outputs": [
    {
     "name": "stdout",
     "output_type": "stream",
     "text": [
      "Accuracy: 0.25\n",
      "bAccuracy: 0.2545192547655924\n"
     ]
    }
   ],
   "source": [
    "kNeigh = KNeighborsClassifier(n_neighbors = 7)\n",
    "kNeigh.fit(X_train, y_train)\n",
    "kNeighPred = kNeigh.predict(X_test)\n",
    "my_acc = metrics.accuracy_score(kNeighPred,y_test)\n",
    "my_bAcc = metrics.balanced_accuracy_score(kNeighPred,y_test)\n",
    "print('Accuracy:', my_acc)\n",
    "print('bAccuracy:', my_bAcc)"
   ]
  },
  {
   "cell_type": "markdown",
   "id": "79afdbc5",
   "metadata": {},
   "source": [
    "### Z normalizacją"
   ]
  },
  {
   "cell_type": "code",
   "execution_count": 15,
   "id": "cbde671e",
   "metadata": {},
   "outputs": [
    {
     "name": "stdout",
     "output_type": "stream",
     "text": [
      "Accuracy: 0.2465\n",
      "bAccuracy: 0.24606266728049864\n"
     ]
    }
   ],
   "source": [
    "kNeigh = KNeighborsClassifier(n_neighbors = 2)\n",
    "kNeigh.fit(X_trainNorm, y_train)\n",
    "kNeighPred = kNeigh.predict(X_testNorm)\n",
    "my_acc = metrics.accuracy_score(kNeighPred,y_test)\n",
    "my_bAcc = metrics.balanced_accuracy_score(kNeighPred,y_test)\n",
    "print('Accuracy:', my_acc)\n",
    "print('bAccuracy:', my_bAcc)"
   ]
  },
  {
   "cell_type": "code",
   "execution_count": 16,
   "id": "6a0c540d",
   "metadata": {},
   "outputs": [
    {
     "name": "stdout",
     "output_type": "stream",
     "text": [
      "Accuracy: 0.235\n",
      "bAccuracy: 0.24146314387145845\n"
     ]
    }
   ],
   "source": [
    "kNeigh = KNeighborsClassifier(n_neighbors = 3)\n",
    "kNeigh.fit(X_trainNorm, y_train)\n",
    "kNeighPred = kNeigh.predict(X_testNorm)\n",
    "my_acc = metrics.accuracy_score(kNeighPred,y_test)\n",
    "my_bAcc = metrics.balanced_accuracy_score(kNeighPred,y_test)\n",
    "print('Accuracy:', my_acc)\n",
    "print('bAccuracy:', my_bAcc)"
   ]
  },
  {
   "cell_type": "code",
   "execution_count": 17,
   "id": "738335fd",
   "metadata": {},
   "outputs": [
    {
     "name": "stdout",
     "output_type": "stream",
     "text": [
      "Accuracy: 0.2415\n",
      "bAccuracy: 0.24274709469165417\n"
     ]
    }
   ],
   "source": [
    "kNeigh = KNeighborsClassifier(n_neighbors = 4)\n",
    "kNeigh.fit(X_trainNorm, y_train)\n",
    "kNeighPred = kNeigh.predict(X_testNorm)\n",
    "my_acc = metrics.accuracy_score(kNeighPred,y_test)\n",
    "my_bAcc = metrics.balanced_accuracy_score(kNeighPred,y_test)\n",
    "print('Accuracy:', my_acc)\n",
    "print('bAccuracy:', my_bAcc)"
   ]
  },
  {
   "cell_type": "code",
   "execution_count": 18,
   "id": "c62fde87",
   "metadata": {},
   "outputs": [
    {
     "name": "stdout",
     "output_type": "stream",
     "text": [
      "Accuracy: 0.241\n",
      "bAccuracy: 0.24317836948755092\n"
     ]
    }
   ],
   "source": [
    "kNeigh = KNeighborsClassifier(n_neighbors = 5)\n",
    "kNeigh.fit(X_trainNorm, y_train)\n",
    "kNeighPred = kNeigh.predict(X_testNorm)\n",
    "my_acc = metrics.accuracy_score(kNeighPred,y_test)\n",
    "my_bAcc = metrics.balanced_accuracy_score(kNeighPred,y_test)\n",
    "print('Accuracy:', my_acc)\n",
    "print('bAccuracy:', my_bAcc)"
   ]
  },
  {
   "cell_type": "code",
   "execution_count": 19,
   "id": "6bea0582",
   "metadata": {},
   "outputs": [
    {
     "name": "stdout",
     "output_type": "stream",
     "text": [
      "Accuracy: 0.2485\n",
      "bAccuracy: 0.250068042381984\n"
     ]
    }
   ],
   "source": [
    "kNeigh = KNeighborsClassifier(n_neighbors = 6)\n",
    "kNeigh.fit(X_trainNorm, y_train)\n",
    "kNeighPred = kNeigh.predict(X_testNorm)\n",
    "my_acc = metrics.accuracy_score(kNeighPred,y_test)\n",
    "my_bAcc = metrics.balanced_accuracy_score(kNeighPred,y_test)\n",
    "print('Accuracy:', my_acc)\n",
    "print('bAccuracy:', my_bAcc)"
   ]
  },
  {
   "cell_type": "code",
   "execution_count": 20,
   "id": "634268ba",
   "metadata": {},
   "outputs": [
    {
     "name": "stdout",
     "output_type": "stream",
     "text": [
      "Accuracy: 0.251\n",
      "bAccuracy: 0.2548704344616846\n"
     ]
    }
   ],
   "source": [
    "kNeigh = KNeighborsClassifier(n_neighbors = 7)\n",
    "kNeigh.fit(X_trainNorm, y_train)\n",
    "kNeighPred = kNeigh.predict(X_testNorm)\n",
    "my_acc = metrics.accuracy_score(kNeighPred,y_test)\n",
    "my_bAcc = metrics.balanced_accuracy_score(kNeighPred,y_test)\n",
    "print('Accuracy:', my_acc)\n",
    "print('bAccuracy:', my_bAcc)"
   ]
  },
  {
   "cell_type": "markdown",
   "id": "8ed38830",
   "metadata": {},
   "source": [
    "# Zad 5"
   ]
  },
  {
   "cell_type": "code",
   "execution_count": null,
   "id": "7ec22064",
   "metadata": {},
   "outputs": [],
   "source": []
  },
  {
   "cell_type": "markdown",
   "id": "29fff8ba",
   "metadata": {},
   "source": [
    "# Zad 6"
   ]
  },
  {
   "cell_type": "code",
   "execution_count": 21,
   "id": "d78d9be7",
   "metadata": {},
   "outputs": [
    {
     "data": {
      "text/plain": [
       "<sklearn.metrics._plot.confusion_matrix.ConfusionMatrixDisplay at 0x245cb060940>"
      ]
     },
     "execution_count": 21,
     "metadata": {},
     "output_type": "execute_result"
    },
    {
     "data": {
      "image/png": "[encoded data removed]",
      "text/plain": [
       "<Figure size 1440x1440 with 2 Axes>"
      ]
     },
     "metadata": {
      "needs_background": "light"
     },
     "output_type": "display_data"
    }
   ],
   "source": [
    "fig, ax = plt.subplots(1,1,figsize=(20,20))\n",
    "cm = metrics.confusion_matrix(y_test, kNeighPred)\n",
    "disp = metrics.ConfusionMatrixDisplay(confusion_matrix=cm)\n",
    "disp.plot(ax = ax)"
   ]
  },
  {
   "cell_type": "markdown",
   "id": "ecc3800a",
   "metadata": {},
   "source": [
    "    Klasyfikator nie działał poprawnie mylił pierwszą klase, prawdopodobnie normalizacja nie zadziałała"
   ]
  },
  {
   "cell_type": "code",
   "execution_count": null,
   "id": "d1a78012",
   "metadata": {},
   "outputs": [],
   "source": []
  }
 ],
 "metadata": {
  "author": {
   "email": "robert.susik@p.lodz.pl",
   "name": "Robert Susik"
  },
  "kernelspec": {
   "display_name": "Python 3 (ipykernel)",
   "language": "python",
   "name": "python3"
  },
  "language_info": {
   "codemirror_mode": {
    "name": "ipython",
    "version": 3
   },
   "file_extension": ".py",
   "mimetype": "text/x-python",
   "name": "python",
   "nbconvert_exporter": "python",
   "pygments_lexer": "ipython3",
   "version": "3.9.2"
  },
  "toc": {
   "base_numbering": 1,
   "nav_menu": {},
   "number_sections": true,
   "sideBar": true,
   "skip_h1_title": false,
   "title_cell": "Table of Contents",
   "title_sidebar": "Contents",
   "toc_cell": false,
   "toc_position": {},
   "toc_section_display": true,
   "toc_window_display": false
  }
 },
 "nbformat": 4,
 "nbformat_minor": 5
}
