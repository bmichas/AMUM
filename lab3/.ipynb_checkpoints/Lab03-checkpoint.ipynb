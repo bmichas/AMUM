{
 "cells": [
  {
   "cell_type": "markdown",
   "id": "59b5dc28",
   "metadata": {},
   "source": [
    "# Algorytmika i matematyka uczenia maszynowego \n",
    "## Laboratorium 3\n",
    "\n",
    "Do wykonania laboratorium należy skorzystać z bibliotek:\n",
    "- [numpy](https://numpy.org/)\n",
    "- [matplotlib](https://matplotlib.org/)\n",
    "\n",
    "### Zadanie 1 - zakupy\n",
    "\n",
    "W sklepie dostępne są następujące produkty:\n",
    "\n",
    "| Produkt | Cena (netto) | Podatek |\n",
    "| --- | --- | --- |\n",
    "| Chleb | 3 | 5% |\n",
    "| Butelka wody (1l) | 2 | 8% |\n",
    "| Pomidor 1szt. | 2 | 5% |\n",
    "| Olej (1l) | 6 | 5% |\n",
    "| Szafran | 1.5 | 8% |\n",
    "| Krewetki (opakowanie) | 20 | 23% |\n",
    "| Lód (opakowanie) | 5 | 23% |\n",
    "\n",
    "\n",
    "#### Zadanie 1 A\n",
    "\n",
    "- Zapisz nazwy produktów w tablicy `N`.\n",
    "- Zapisz ceny produktów w tablicy `C`.\n",
    "- Zapisz podatek w tablicy `P`.\n",
    "\n",
    "*(tablicy jedno wymiarowej czyli wektorze)*\n",
    "\n"
   ]
  },
  {
   "cell_type": "code",
   "execution_count": 4,
   "id": "adf73c67",
   "metadata": {},
   "outputs": [
    {
     "data": {
      "text/plain": [
       "array([0.05, 0.08, 0.05, 0.05, 0.08, 0.23, 0.23])"
      ]
     },
     "execution_count": 4,
     "metadata": {},
     "output_type": "execute_result"
    }
   ],
   "source": [
    "import numpy as np\n",
    "N = np.array(['Chleb','Butelka wody (1l)', 'Pomidory 1szt', 'Olej (1l)', 'Szafran', 'Krewetki (opakowanie)', 'Lód (opakowanie)'])\n",
    "C = np.array([3,2,2,6,1.5,20,5])\n",
    "P = np.array([0.05,0.08,0.05,0.05,0.08,0.23,0.23])"
   ]
  },
  {
   "cell_type": "markdown",
   "id": "ca4e7af2",
   "metadata": {},
   "source": [
    "#### Zadanie 1 B\n",
    "\n",
    "Klient kupił:\n",
    "\n",
    "- 2 szt. chleba, \n",
    "- 6 butelek wody,\n",
    "- 1 opakowanie krewetek.\n",
    "\n",
    "Zapisz zakupy klienta w wektorze `Z` (zachowaj wymiarowość)."
   ]
  },
  {
   "cell_type": "code",
   "execution_count": 6,
   "id": "81391828",
   "metadata": {},
   "outputs": [],
   "source": [
    "Z = np.array([2,6,0,0,0,1,0])"
   ]
  },
  {
   "cell_type": "markdown",
   "id": "4d64ce4b",
   "metadata": {},
   "source": [
    "\n",
    "#### Zadanie 1C\n",
    "\n",
    "Oblicz sumę **netto** jaką klient musi zapłacić bez używania:\n",
    "- operatora `+`, \n",
    "- funkcji/metody `sum`\n",
    "- operatego mnożenia skalarnego (`*`, `__mul__`).\n",
    "\n",
    "_Podpowiedź: jeden z wektorów trzeba transponować_"
   ]
  },
  {
   "cell_type": "code",
   "execution_count": 7,
   "id": "bb0b4e4e",
   "metadata": {},
   "outputs": [
    {
     "data": {
      "text/plain": [
       "38.0"
      ]
     },
     "execution_count": 7,
     "metadata": {},
     "output_type": "execute_result"
    }
   ],
   "source": [
    "netto = C.T@Z\n",
    "netto"
   ]
  },
  {
   "cell_type": "markdown",
   "id": "fe9e7805",
   "metadata": {},
   "source": [
    "#### Zadanie 1D\n",
    "\n",
    "Oblicz wartość **brutto** jaką klient musi zapłacić w sklepie. W tym zadaniu możesz użyć operatora `*`.\n",
    "\n",
    "Dodatkowo, wyświetl rachunek w postaci tabeli zawierającą kolumny: \n",
    "- nazwa produktu,\n",
    "- cena netto, \n",
    "- liczba sztuk, \n",
    "- cena netto danej pozycji (cena netto x liczba sztuk), \n",
    "- podatek (procentowo np. `5%`),\n",
    "- cena brutto danej pozycji. \n",
    "\n",
    "Na końcu tabeli ma się wyświetlić suma brutto do zapłaty."
   ]
  },
  {
   "cell_type": "code",
   "execution_count": 57,
   "id": "f11e2e28",
   "metadata": {},
   "outputs": [
    {
     "name": "stdout",
     "output_type": "stream",
     "text": [
      "-----------------------------------------------------------------------------------------------------------------------------\n",
      "    Nazwa produktu    |     Cena netto     |    Liczba sztuk    |   Cena netto all   |      Podatek      |       Cena        |\n",
      "-----------------------------------------------------------------------------------------------------------------------------\n",
      "        Chleb         |        3.0         |         2          |        6.0         |       0.05        |       6.30        |\n",
      "-----------------------------------------------------------------------------------------------------------------------------\n",
      "  Butelka wody (1l)   |        2.0         |         6          |        12.0        |       0.08        |       12.9        |\n",
      "-----------------------------------------------------------------------------------------------------------------------------\n",
      "Krewetki (opakowanie) |        20.0        |         1          |        20.0        |       0.23        |       24.6        |\n",
      "-----------------------------------------------------------------------------------------------------------------------------\n",
      "Suma                                                                                                                    115.0\n"
     ]
    }
   ],
   "source": [
    "B = C*Z*(P+1)\n",
    "brutto = Z @ B.T\n",
    "\n",
    "col = np.array(['Nazwa produktu','Cena netto','Liczba sztuk','Cena netto all','Podatek','Cena brutto all'])\n",
    "recipe = np.vstack((N,C,Z,C*Z,P,C*Z*(1+P)))\n",
    "recipe = recipe.T\n",
    "recipe = np.vstack((col,recipe))\n",
    "recipe_1 = np.array([row for row in recipe if row[2] != str(0)])\n",
    "for row in recipe_1:\n",
    "    print(125*'-')\n",
    "    print(f'{row[0]:^22}|{row[1]:^20}|{row[2]:^20}|{row[3]:^20}|{row[4]:^19}|{row[5]:^19.4}|')\n",
    "print(125*'-')\n",
    "print(f'Suma { brutto:>120.4}')\n"
   ]
  },
  {
   "cell_type": "markdown",
   "id": "67b1b17f",
   "metadata": {
    "heading_collapsed": true
   },
   "source": [
    "### Zadanie 2\n",
    "\n",
    "Zmodyfikuj kod z zadania pierwszego w ten sposób, że dane o produktach będą wczytywane z pliku `produkty.csv` a dane do rachunku (liczba zakupionych produktów) z pliku `rachunek.csv`.\n",
    "\n",
    "Utwórz przykładowe dane (inne niż w zadaniu 1)."
   ]
  },
  {
   "cell_type": "code",
   "execution_count": 78,
   "id": "7e41d4ce",
   "metadata": {},
   "outputs": [
    {
     "name": "stdout",
     "output_type": "stream",
     "text": [
      "['CHLEB 1szt' 'Sprite (2,5)' 'Gruszka 1kg' 'Kurczak 1kg' 'Pieprz'\n",
      " 'Sol 1kg']\n",
      "[ 1  6  8 12  2  3]\n",
      "[0.05 0.23 0.9  0.23 0.05 0.23]\n",
      "[2 3 0 1 4 0]\n",
      "40\n",
      "-----------------------------------------------------------------------------------------------------------------------------\n",
      "    Nazwa produktu    |     Cena netto     |    Liczba sztuk    |   Cena netto all   |      Podatek      |       Cena        |\n",
      "-----------------------------------------------------------------------------------------------------------------------------\n",
      "      CHLEB 1szt      |         1          |         2          |         2          |       0.05        |        2.1        |\n",
      "-----------------------------------------------------------------------------------------------------------------------------\n",
      "     Sprite (2,5)     |         6          |         3          |         18         |       0.23        |       22.1        |\n",
      "-----------------------------------------------------------------------------------------------------------------------------\n",
      "     Kurczak 1kg      |         12         |         1          |         12         |       0.23        |       14.7        |\n",
      "-----------------------------------------------------------------------------------------------------------------------------\n",
      "        Pieprz        |         2          |         4          |         8          |       0.05        |        8.4        |\n",
      "-----------------------------------------------------------------------------------------------------------------------------\n",
      "Suma                                                                                                                    119.0\n"
     ]
    }
   ],
   "source": [
    "produkty = np.genfromtxt('produkty.csv', delimiter=';',dtype=str)\n",
    "rachunek = np.genfromtxt('rachunek.csv', delimiter=';',dtype=int)\n",
    "\n",
    "N = np.array([row[0] for row in produkty])\n",
    "C = np.array([int(row[1]) for row in produkty])\n",
    "P = np.array([float(row[2]) for row in produkty])\n",
    "Z = np.array(rachunek)\n",
    "print(N)\n",
    "print(C)\n",
    "print(P)\n",
    "print(Z)\n",
    "\n",
    "netto = C.T@Z\n",
    "print(netto)\n",
    "\n",
    "B = C*Z*(P+1)\n",
    "brutto = Z @ B.T\n",
    "\n",
    "col = np.array(['Nazwa produktu','Cena netto','Liczba sztuk','Cena netto all','Podatek','Cena brutto all'])\n",
    "recipe = np.vstack((N,C,Z,C*Z,P,C*Z*(1+P)))\n",
    "recipe = recipe.T\n",
    "recipe = np.vstack((col,recipe))\n",
    "recipe_1 = np.array([row for row in recipe if row[2] != str(0)])\n",
    "for row in recipe_1:\n",
    "    print(125*'-')\n",
    "    print(f'{row[0]:^22}|{row[1]:^20}|{row[2]:^20}|{row[3]:^20}|{row[4]:^19}|{row[5]:^19.4}|')\n",
    "print(125*'-')\n",
    "print(f'Suma { brutto:>120.4}')"
   ]
  },
  {
   "cell_type": "markdown",
   "id": "20d45341",
   "metadata": {},
   "source": [
    "### Zadanie 3\n",
    "\n",
    "#### Zadanie 3 A\n",
    "\n",
    "Utwórz dwa wektory dwuelementowe `A` i `B` (dowolne wartości dodatnie różne od zera).\n",
    "\n",
    "Następnie wykonaj sumowanie elementów obu wektorów i zapisz w zmiennej `C`.\n"
   ]
  },
  {
   "cell_type": "code",
   "execution_count": 80,
   "id": "741e4a50",
   "metadata": {},
   "outputs": [
    {
     "data": {
      "text/plain": [
       "array([3, 5])"
      ]
     },
     "execution_count": 80,
     "metadata": {},
     "output_type": "execute_result"
    }
   ],
   "source": [
    "A = np.array([1,2])\n",
    "B = np.array([2,3])\n",
    "C = A+B\n",
    "C"
   ]
  },
  {
   "cell_type": "markdown",
   "id": "6825bb23",
   "metadata": {},
   "source": [
    "#### Zadanie 3 B\n",
    "\n",
    "Wyświetl na wykresie:\n",
    "- _wektor wodzący_ (strzałkę) z punktu `(0, 0)` do punktów `A` oraz `B` (w kolorze <font color='green'>zielonym</font>),\n",
    "- _wektor wodzący_ (strzałkę) z punktu `(0, 0)` do punktu `C` (w kolorze <font color='red'>czerwonym</font>)\n",
    "- wektor wodzący z punktu `A` do punktu `C` (w kolorze <font color='blue'>niebieskim</font>),\n",
    "- wektor wodzący z punktu `B` do punktu `C` (w kolorze <font color='blue'>niebieskim</font>)."
   ]
  },
  {
   "cell_type": "code",
   "execution_count": 84,
   "id": "716313db",
   "metadata": {},
   "outputs": [
    {
     "ename": "SyntaxError",
     "evalue": "invalid syntax (2477067908.py, line 5)",
     "output_type": "error",
     "traceback": [
      "\u001b[1;36m  Input \u001b[1;32mIn [84]\u001b[1;36m\u001b[0m\n\u001b[1;33m    plt.arrow(A[0],A[1],C[0],C[1] color = 'b')\u001b[0m\n\u001b[1;37m                                  ^\u001b[0m\n\u001b[1;31mSyntaxError\u001b[0m\u001b[1;31m:\u001b[0m invalid syntax\n"
     ]
    }
   ],
   "source": [
    "import matplotlib.pyplot as plt\n",
    "plt.arrow(0,0,A[0],A[1], color = 'g')\n",
    "plt.arrow(0,0,B[0],B[1], color = 'g')\n",
    "plt.arrow(0,0,C[0],C[1], color = 'r')\n",
    "plt.arrow(A[0],A[1],C[0],C[1], color = 'b')\n",
    "plt.arrow(B[0],B[1],C[0],C[1] ,color  = 'b')\n",
    "plt.show()"
   ]
  },
  {
   "cell_type": "markdown",
   "id": "98e6ec6a",
   "metadata": {},
   "source": [
    "### Zadanie 4\n",
    "\n",
    "Wygeneruj losową macierz 8×8 wg rozkładu Gaussa (średnia: 100, odch. std = 15),\n",
    "wartości zaokrąglij do liczb całkowitych (int). Macierz ta reprezentuje pewien obraz (w skali szarości).\n",
    "\n",
    "Następnie zastosuj filtr uśredniający o masce 3×3 dla elementów wewnętrznych (tj. poza brzegiem) tej macierzy i wypisz wynik. W filtrze uśredniającym zastosuj zaokrąglanie w dół do liczby całkowitej.\n",
    "\n",
    "_Podpowiedź: generacja danych: np.random.normal, np.round._"
   ]
  },
  {
   "cell_type": "code",
   "execution_count": null,
   "id": "9616e1f3",
   "metadata": {},
   "outputs": [],
   "source": [
    "# <<UZUPEŁNIJ>>"
   ]
  }
 ],
 "metadata": {
  "author": {
   "email": "robert.susik@p.lodz.pl",
   "name": "Robert Susik"
  },
  "kernelspec": {
   "display_name": "Python 3 (ipykernel)",
   "language": "python",
   "name": "python3"
  },
  "language_info": {
   "codemirror_mode": {
    "name": "ipython",
    "version": 3
   },
   "file_extension": ".py",
   "mimetype": "text/x-python",
   "name": "python",
   "nbconvert_exporter": "python",
   "pygments_lexer": "ipython3",
   "version": "3.9.2"
  },
  "toc": {
   "base_numbering": 1,
   "nav_menu": {},
   "number_sections": true,
   "sideBar": true,
   "skip_h1_title": false,
   "title_cell": "Table of Contents",
   "title_sidebar": "Contents",
   "toc_cell": false,
   "toc_position": {},
   "toc_section_display": true,
   "toc_window_display": false
  }
 },
 "nbformat": 4,
 "nbformat_minor": 5
}
