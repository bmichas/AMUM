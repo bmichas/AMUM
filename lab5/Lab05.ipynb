{
 "cells": [
  {
   "cell_type": "markdown",
   "id": "59b5dc28",
   "metadata": {},
   "source": [
    "# Algorytmika i matematyka uczenia maszynowego \n",
    "## Laboratorium 5\n",
    "\n",
    "Do wykonania laboratorium można skorzystać z bibliotek/modułów:\n",
    "- [numpy](https://numpy.org/)\n",
    "- [matplotlib](https://matplotlib.org/)\n",
    "- [pandas](https://pandas.pydata.org/)\n",
    "- [collections](https://docs.python.org/3/library/collections.html)\n"
   ]
  },
  {
   "cell_type": "markdown",
   "id": "ca4e7af2",
   "metadata": {},
   "source": [
    "### Zadanie 1\n",
    "\n",
    "Wczytaj plik `english.10MB`\n",
    "> Podpowiedź: Kodowanie `iso-8859-1`\n",
    "\n"
   ]
  },
  {
   "cell_type": "code",
   "execution_count": 1,
   "id": "967f6b63",
   "metadata": {
    "scrolled": true
   },
   "outputs": [],
   "source": [
    "with open('english.txt', encoding='iso-8859-1') as f:\n",
    "    contents = f.readlines()\n",
    "    f.close()\n",
    "    \n",
    "contents = [x.rstrip(\"\\n\") for x in contents]"
   ]
  },
  {
   "cell_type": "markdown",
   "id": "8d2a3a0d",
   "metadata": {},
   "source": [
    "### Zadanie 2\n",
    "Zamień wszystkie litery na małe.\n"
   ]
  },
  {
   "cell_type": "code",
   "execution_count": 2,
   "id": "5d879322",
   "metadata": {},
   "outputs": [],
   "source": [
    "text = []\n",
    "for i in contents:\n",
    "    if i == '':\n",
    "        pass\n",
    "    else:\n",
    "        i = i.lower()\n",
    "        text.append(i)"
   ]
  },
  {
   "cell_type": "markdown",
   "id": "cf5a110e",
   "metadata": {},
   "source": [
    "### Zadanie 3\n",
    "Znajdź unikalne litery (pomiń inne znaki) w tekście i dla każdej przypisz liczbę wystąpień, a następnie wyświetl histogram.\n",
    "\n",
    "Pytanie: Jaka litera występuje najczęściej?\n",
    "\n",
    "> Podpowiedź: `import string`\n"
   ]
  },
  {
   "cell_type": "code",
   "execution_count": 9,
   "id": "fa392fb1",
   "metadata": {},
   "outputs": [],
   "source": [
    "import pandas as pd\n",
    "import string\n",
    "import matplotlib.pyplot as plt\n",
    "from collections import Counter\n",
    "\n",
    "phrase = str()\n",
    "for line in text:\n",
    "    phrase += line\n",
    "\n",
    "letters = string.ascii_lowercase\n",
    "letter_dic ={}\n",
    "for i in letters:\n",
    "    counter = phrase.count(i)\n",
    "    letter_dic[i] = counter\n",
    "    "
   ]
  },
  {
   "cell_type": "code",
   "execution_count": 10,
   "id": "c3ee1082",
   "metadata": {},
   "outputs": [
    {
     "data": {
      "text/plain": [
       "<BarContainer object of 26 artists>"
      ]
     },
     "execution_count": 10,
     "metadata": {},
     "output_type": "execute_result"
    },
    {
     "data": {
      "image/png": "[encoded data removed]",
      "text/plain": [
       "<Figure size 1080x360 with 1 Axes>"
      ]
     },
     "metadata": {
      "needs_background": "light"
     },
     "output_type": "display_data"
    }
   ],
   "source": [
    "plt.figure(figsize=(15,5))\n",
    "plt.bar(letter_dic.keys(), letter_dic.values(), width=.6, color='g')"
   ]
  },
  {
   "cell_type": "markdown",
   "id": "5e248f98",
   "metadata": {},
   "source": [
    "### Zadanie 4\n",
    "\n",
    "Napisz funkcję, która dla podanego prefiksu (ciąg liter, np. `th` to prefiks o długości 2) zwróci listę maksymalnie pięciu liter, które mają największe prawdopodobieństwo wystąpienia po nim.\n",
    "\n",
    "```python\n",
    "In : nast('th', s) # th - prefiks, s - tekst\n",
    "Out: ['e', 'a', 'i', 'o', 'y']\n",
    "```\n",
    "\n"
   ]
  },
  {
   "cell_type": "code",
   "execution_count": 23,
   "id": "304c9e59",
   "metadata": {},
   "outputs": [
    {
     "data": {
      "text/plain": [
       "['e', 'a', 'i', 'o', 'y']"
      ]
     },
     "execution_count": 23,
     "metadata": {},
     "output_type": "execute_result"
    }
   ],
   "source": [
    "def nast(start, phrase):\n",
    "    lst = phrase.split(' ')\n",
    "    dic = {}\n",
    "    letters = string.ascii_lowercase\n",
    "    \n",
    "    for i in letters:\n",
    "        dic[i] = 0\n",
    "   \n",
    "    for word in lst:\n",
    "            try:\n",
    "                if word.startswith(start):\n",
    "                    wordNoStart = word.split(start,1)[1]\n",
    "                    wordFirstLetter = str(wordNoStart[0])\n",
    "                    if wordFirstLetter in dic:\n",
    "                        dic[wordFirstLetter] += 1\n",
    "            except IndexError:\n",
    "                pass\n",
    "    dic = {x:y for x,y in dic.items() if y!=0}\n",
    "    k = Counter(dic)\n",
    "    if len(k)>5:\n",
    "        high = k.most_common(5)\n",
    "    else:\n",
    "        high = k.most_common(len(k))\n",
    "    \n",
    "    lst = []\n",
    "    for i in high:\n",
    "        lst.append(i[0])\n",
    "       \n",
    "    return lst\n",
    "\n",
    "\n",
    "nast('th',phrase)"
   ]
  },
  {
   "cell_type": "markdown",
   "id": "c2a193ff",
   "metadata": {},
   "source": [
    "### Zadanie 5\n",
    "\n",
    "Napisz kod, który wczytuje kolejne znaki od użytkownika i podpowiada następne możliwe litery (maksymalnie pięć). Wykorzystaj funkcję zaimplementowaną w poprzednim zadaniu.\n",
    "\n",
    "> Podpowiedź: Możesz wykorzystać funkcję `input()` do wczytywania znaków.\n",
    "\n",
    "Przykład działania:\n",
    "```\n",
    "Nacisnij <ENTER> aby zakonczyc.\n",
    "Podaj litere: f\n",
    "Podaj kolejną literę (możliwe: ['o', 'a', 'r', 'e', 'i']): fo\n",
    "Podaj kolejną literę (możliwe: ['r', 'u', 'l', 'o', 'x']): for\n",
    "Podaj kolejną literę (możliwe: ['e', 't', 'm', 'g', 'c']): fore\n",
    "Podaj kolejną literę (możliwe: ['s', 'h', 'i', 'g', 'v']): fores\n",
    "Podaj kolejną literę (możliwe: ['t', 'a', 'e', 'i', 'k']): forest\n",
    "Podaj kolejną literę (możliwe: ['s', 'a']): forests\n",
    "```"
   ]
  },
  {
   "cell_type": "code",
   "execution_count": 25,
   "id": "3d6e24d2",
   "metadata": {},
   "outputs": [
    {
     "name": "stdout",
     "output_type": "stream",
     "text": [
      "Podaj litere: t\n",
      "Podaj kolejną literę (możliwe: ['h', 'o', 'r', 'i', 'a']: th\n",
      "Podaj kolejną literę (możliwe: ['e', 'a', 'i', 'o', 'y']: the\n",
      "Podaj kolejną literę (możliwe: ['y', 'm', 'e', 'n', 'r']: they\n",
      "Podaj kolejną literę (możliwe: ['s', 'a', 'w', 'o', 'r']: theys\n",
      "Podaj kolejną literę (możliwe: ['a', 'e', 'h', 'p', 'u']: theysa\n",
      "Podaj kolejną literę (możliwe: ['i', 'w', 't', 'l', 'y']: theysai\n",
      "Podaj kolejną literę (możliwe: ['d']: theysaid\n"
     ]
    }
   ],
   "source": [
    "x = input('Podaj litere: ')\n",
    "while len(nast(x,phrase))>0:\n",
    "    x = x + input('Podaj kolejną literę (możliwe: ' + str(nast(x,phrase))+': '+x)"
   ]
  },
  {
   "cell_type": "markdown",
   "id": "18515c1d",
   "metadata": {},
   "source": [
    "### Zadanie 6\n",
    "\n",
    "Wykonaj zadanie podobne do zad. 6, ale na poziomie słów. Dla ułatwienia słowa można wybierać z listy za pomocą liczb 1-5."
   ]
  },
  {
   "cell_type": "code",
   "execution_count": 6,
   "id": "3ad6d8d9",
   "metadata": {},
   "outputs": [],
   "source": [
    "# <UZUPEŁNIJ>"
   ]
  }
 ],
 "metadata": {
  "author": {
   "email": "robert.susik@p.lodz.pl",
   "name": "Robert Susik"
  },
  "kernelspec": {
   "display_name": "Python 3 (ipykernel)",
   "language": "python",
   "name": "python3"
  },
  "language_info": {
   "codemirror_mode": {
    "name": "ipython",
    "version": 3
   },
   "file_extension": ".py",
   "mimetype": "text/x-python",
   "name": "python",
   "nbconvert_exporter": "python",
   "pygments_lexer": "ipython3",
   "version": "3.7.8"
  },
  "toc": {
   "base_numbering": 1,
   "nav_menu": {},
   "number_sections": true,
   "sideBar": true,
   "skip_h1_title": false,
   "title_cell": "Table of Contents",
   "title_sidebar": "Contents",
   "toc_cell": false,
   "toc_position": {},
   "toc_section_display": true,
   "toc_window_display": false
  }
 },
 "nbformat": 4,
 "nbformat_minor": 5
}
