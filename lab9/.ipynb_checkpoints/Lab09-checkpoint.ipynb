{
 "cells": [
  {
   "cell_type": "markdown",
   "id": "2a1aca68",
   "metadata": {},
   "source": [
    "# Algorytmika i matematyka uczenia maszynowego \n",
    "## Laboratorium 9"
   ]
  },
  {
   "cell_type": "markdown",
   "id": "7c423d18",
   "metadata": {},
   "source": [
    "\n",
    "### Zadanie 1\n",
    "\n",
    "1. Wczytaj plik `mieszkania.csv`, np. za pomocą:\n",
    "    - biblioteki [`pandas`](https://pandas.pydata.org/docs/reference/api/pandas.read_csv.html) (`read_csv`),\n",
    "    - biblioteki [`numpy`](https://numpy.org/doc/stable/reference/generated/numpy.genfromtxt.html) (`genfromtxt`),\n",
    "    - biblioteki [`csv`](https://docs.python.org/3/library/csv.html) (`reader`).\n",
    "1. Usuń nieprawidłowe dane np. wiersz zawierający wartość `-` lub wartość $0$ powinien zostać usunięty.\n",
    "1. Zamień wartości liczbowe w formacie tekstowym na typ liczbowy.\n",
    "1. Wyświetl **funkcję masy prawdopodobieństwa** wartości mieszkania dla różnych rodzajów \"transakcji rynkowych\". Podpowiedź: możesz skożystać z funkcji `displot` z modułu `seaborn` (jeżeli nie posiadasz to możesz zainstalować za pomocą `pip install seaborn`).\n",
    "1. Wyświetl wszystkie trzy powyższe funkcje (dla ogółu, rynku pierwotnego i wtórnego) na jednym wykresie.\n",
    "1. Opisz wyniki.\n",
    "\n",
    "_Informacja odnośnie zbioru danych:_\n",
    "\n",
    "- _Prezentowane dane dotyczące wielkości sprzedaży oraz cen nieruchomości zostały pobrane z GUSu i opracowane na podstawie informacji pozyskanych z Rejestru Cen Nieruchomości (RCN) – do 31 lipca Rejestru Cen i Wartości Nieruchomości (RCiWN) –  prowadzonego przez starostwa powiatowe i prezydentów miast na prawach powiatu przy wykorzystaniu informacji pochodzących z aktów notarialnych. Obserwacji podlegają tylko te transakcje kupna/sprzedaży nieruchomości, które zostały zawarte w trakcie badanego okresu oraz zostały zarejestrowane w RCN przed datą przekazania wyciągu z rejestru do Głównego Urzędu Statystycznego. Prezentowane są dane dla lokali mieszkalnych znajdujących się w budynkach wielorodzinnych (potocznie mieszkania w blokach), bez informacji o domach jednorodzinnych._\n",
    "- _Prezentowane dane dotyczą sprzedaży o charakterze rynkowym tj. sprzedaży na wolnym rynku (z pewnymi wyłączeniami, np. sprzedaży między stronami spokrewnionymi) oraz sprzedaży przetargowej. W przypadku braku odpowiedniej informacji w zbiorach pochodzących z RCN (do 31 lipca 2021 r. – RCiWN), podział na rynek pierwotny i wtórny został przeprowadzony przyjmując założenie, że sprzedaż na rynku pierwotnym dotyczy transakcji dokonywanych na wolnym rynku, gdzie stroną sprzedającą jest osoba prawna i średnia cena za 1 m2 powierzchni użytkowej lokalu wynosi co najmniej 2 000 zł. Do transakcji na rynku wtórnym zaliczono pozostałe transakcje rynkowe przeprowadzone na wolnym rynku oraz sprzedaż przetargową. W grudniu 2021 r. zasilono BDL danymi ostatecznymi za lata 2010-2014, które dotyczą większej liczby transakcji kupna-sprzedaży lokali mieszkalnych w porównaniu do danych wcześniej opublikowanych przez GUS. Od roku 2020 brak danych dla miasta Koszalin oraz niekompletne dane dla miasta Szczecin._\n",
    "- _Mediana cen za 1 m2 lokali mieszkalnych sprzedanych w ramach transakcji rynkowych_\n",
    "- _Data ostatniej aktualizacji:\t16.12.2021_\n",
    "- Przypisy:\t\n",
    "  - `-` oznacza brak informacji z powodu: zmiany poziomu prezentacji, zmian wprowadzonych do wykazu jednostek terytorialnych lub modyfikacji listy cech w danym okresie sprawozdawczym; \n",
    "  - `n` - Dana jeszcze niedostępna, będzie dostępna; \n",
    "  - `x` - Brak informacji, konieczność zachowania tajemnicy statystycznej lub wypełnienie pozycji jest niemożliwe albo niecelowe; \n",
    "  - `X` - Zmiany metodologiczne, brak informacji, konieczność zachowania tajemnicy statystycznej lub wypełnienie pozycji jest niemożliwe albo niecelowe\n",
    "  "
   ]
  },
  {
   "cell_type": "code",
   "execution_count": null,
   "id": "1ef0d813",
   "metadata": {},
   "outputs": [],
   "source": [
    "# >> UZUPEŁNIJ <<"
   ]
  },
  {
   "cell_type": "markdown",
   "id": "cf517b05",
   "metadata": {},
   "source": [
    "### Zadanie 2 (kontynuacja poprzedniego)\n",
    "1. Wyświetl dystrybuantę (funkcja `ecdfplot`) wartości mieszkań dla rodzaju transakcji `ogólny`.\n",
    "1. Odczytaj \"na oko\" z wykresu ile % mieszkań sprzedaje się za cenę poniżej 4 tys. zł."
   ]
  },
  {
   "cell_type": "code",
   "execution_count": null,
   "id": "3f95e5fc",
   "metadata": {},
   "outputs": [],
   "source": [
    "# >> UZUPEŁNIJ <<"
   ]
  },
  {
   "cell_type": "markdown",
   "id": "ff5a323d",
   "metadata": {},
   "source": [
    "### Zadanie 3\n",
    "\n",
    "Opis zbioru danych znajduje się w pliku z danymi.\n",
    "\n",
    "1. Wczytaj plik `boston.txt` (zwróć uwagę na format pliku), bez ręcznej edycji tego pliku.\n",
    "> Podpowiedź: możesz użyć funkcji `read_csv` z parametrami `skiprows`, `header`, `sep`.\n",
    "1. Wyświetl funkcję masy prawdopodobieństwa dla ceny mieszkań.\n",
    "1. Wyświetl funkcję masy prawdopodobieństwa dla dwóch zmiennych (`x` i `y`): `MEDV`, `RM`. W jakiej cenie i liczbie pokoi sprzedaje się najwięcej mieszkań? Co jeszcze można odczytać z wykresu?\n",
    "1. Sprawdź jeszcze jeden dowolny atrybut i opisz wyniki.\n"
   ]
  },
  {
   "cell_type": "code",
   "execution_count": null,
   "id": "9497c98e",
   "metadata": {},
   "outputs": [],
   "source": [
    "# >> UZUPEŁNIJ <<"
   ]
  }
 ],
 "metadata": {
  "author": {
   "email": "robert.susik@p.lodz.pl",
   "name": "Robert Susik"
  },
  "kernelspec": {
   "display_name": "Python 3 (ipykernel)",
   "language": "python",
   "name": "python3"
  },
  "language_info": {
   "codemirror_mode": {
    "name": "ipython",
    "version": 3
   },
   "file_extension": ".py",
   "mimetype": "text/x-python",
   "name": "python",
   "nbconvert_exporter": "python",
   "pygments_lexer": "ipython3",
   "version": "3.9.2"
  },
  "toc": {
   "base_numbering": 1,
   "nav_menu": {},
   "number_sections": true,
   "sideBar": true,
   "skip_h1_title": false,
   "title_cell": "Table of Contents",
   "title_sidebar": "Contents",
   "toc_cell": false,
   "toc_position": {},
   "toc_section_display": true,
   "toc_window_display": false
  }
 },
 "nbformat": 4,
 "nbformat_minor": 5
}
